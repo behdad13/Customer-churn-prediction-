{
  "nbformat": 4,
  "nbformat_minor": 0,
  "metadata": {
    "colab": {
      "provenance": [],
      "collapsed_sections": [
        "c6m9qsHksSY_",
        "vTyWuJ9wU2b1",
        "rVfZCMKwtEFh"
      ]
    },
    "kernelspec": {
      "name": "python3",
      "display_name": "Python 3"
    },
    "language_info": {
      "name": "python"
    }
  },
  "cells": [
    {
      "cell_type": "markdown",
      "metadata": {
        "id": "4aoXGjAkMoCI"
      },
      "source": [
        "# *Step1*:Data preprocessing"
      ]
    },
    {
      "cell_type": "markdown",
      "metadata": {
        "id": "yXbJM43gPKch"
      },
      "source": [
        "##step1-1: importing the necessary libraries"
      ]
    },
    {
      "cell_type": "code",
      "metadata": {
        "id": "UGvtIxHvMm41"
      },
      "source": [
        "import numpy as np\n",
        "import matplotlib.pyplot as plt\n",
        "import pandas as pd"
      ],
      "execution_count": null,
      "outputs": []
    },
    {
      "cell_type": "markdown",
      "metadata": {
        "id": "T9_RVuDOPVhy"
      },
      "source": [
        "##Step 1-2: Importing the main dataset"
      ]
    },
    {
      "cell_type": "code",
      "metadata": {
        "id": "vz3p3QVkPdM9",
        "colab": {
          "base_uri": "https://localhost:8080/",
          "height": 454
        },
        "outputId": "1410c4d1-39e0-45ad-bc5b-98b0cc1af201"
      },
      "source": [
        "dataset = pd.read_csv('Churn_Modelling.csv')\n",
        "dataset"
      ],
      "execution_count": null,
      "outputs": [
        {
          "output_type": "error",
          "ename": "FileNotFoundError",
          "evalue": "ignored",
          "traceback": [
            "\u001b[0;31m---------------------------------------------------------------------------\u001b[0m",
            "\u001b[0;31mFileNotFoundError\u001b[0m                         Traceback (most recent call last)",
            "\u001b[0;32m<ipython-input-2-78ee61c43fe0>\u001b[0m in \u001b[0;36m<module>\u001b[0;34m()\u001b[0m\n\u001b[0;32m----> 1\u001b[0;31m \u001b[0mdataset\u001b[0m \u001b[0;34m=\u001b[0m \u001b[0mpd\u001b[0m\u001b[0;34m.\u001b[0m\u001b[0mread_csv\u001b[0m\u001b[0;34m(\u001b[0m\u001b[0;34m'Churn_Modelling.csv'\u001b[0m\u001b[0;34m)\u001b[0m\u001b[0;34m\u001b[0m\u001b[0;34m\u001b[0m\u001b[0m\n\u001b[0m\u001b[1;32m      2\u001b[0m \u001b[0mdataset\u001b[0m\u001b[0;34m\u001b[0m\u001b[0;34m\u001b[0m\u001b[0m\n",
            "\u001b[0;32m/usr/local/lib/python3.7/dist-packages/pandas/io/parsers.py\u001b[0m in \u001b[0;36mread_csv\u001b[0;34m(filepath_or_buffer, sep, delimiter, header, names, index_col, usecols, squeeze, prefix, mangle_dupe_cols, dtype, engine, converters, true_values, false_values, skipinitialspace, skiprows, skipfooter, nrows, na_values, keep_default_na, na_filter, verbose, skip_blank_lines, parse_dates, infer_datetime_format, keep_date_col, date_parser, dayfirst, cache_dates, iterator, chunksize, compression, thousands, decimal, lineterminator, quotechar, quoting, doublequote, escapechar, comment, encoding, dialect, error_bad_lines, warn_bad_lines, delim_whitespace, low_memory, memory_map, float_precision)\u001b[0m\n\u001b[1;32m    686\u001b[0m     )\n\u001b[1;32m    687\u001b[0m \u001b[0;34m\u001b[0m\u001b[0m\n\u001b[0;32m--> 688\u001b[0;31m     \u001b[0;32mreturn\u001b[0m \u001b[0m_read\u001b[0m\u001b[0;34m(\u001b[0m\u001b[0mfilepath_or_buffer\u001b[0m\u001b[0;34m,\u001b[0m \u001b[0mkwds\u001b[0m\u001b[0;34m)\u001b[0m\u001b[0;34m\u001b[0m\u001b[0;34m\u001b[0m\u001b[0m\n\u001b[0m\u001b[1;32m    689\u001b[0m \u001b[0;34m\u001b[0m\u001b[0m\n\u001b[1;32m    690\u001b[0m \u001b[0;34m\u001b[0m\u001b[0m\n",
            "\u001b[0;32m/usr/local/lib/python3.7/dist-packages/pandas/io/parsers.py\u001b[0m in \u001b[0;36m_read\u001b[0;34m(filepath_or_buffer, kwds)\u001b[0m\n\u001b[1;32m    452\u001b[0m \u001b[0;34m\u001b[0m\u001b[0m\n\u001b[1;32m    453\u001b[0m     \u001b[0;31m# Create the parser.\u001b[0m\u001b[0;34m\u001b[0m\u001b[0;34m\u001b[0m\u001b[0;34m\u001b[0m\u001b[0m\n\u001b[0;32m--> 454\u001b[0;31m     \u001b[0mparser\u001b[0m \u001b[0;34m=\u001b[0m \u001b[0mTextFileReader\u001b[0m\u001b[0;34m(\u001b[0m\u001b[0mfp_or_buf\u001b[0m\u001b[0;34m,\u001b[0m \u001b[0;34m**\u001b[0m\u001b[0mkwds\u001b[0m\u001b[0;34m)\u001b[0m\u001b[0;34m\u001b[0m\u001b[0;34m\u001b[0m\u001b[0m\n\u001b[0m\u001b[1;32m    455\u001b[0m \u001b[0;34m\u001b[0m\u001b[0m\n\u001b[1;32m    456\u001b[0m     \u001b[0;32mif\u001b[0m \u001b[0mchunksize\u001b[0m \u001b[0;32mor\u001b[0m \u001b[0miterator\u001b[0m\u001b[0;34m:\u001b[0m\u001b[0;34m\u001b[0m\u001b[0;34m\u001b[0m\u001b[0m\n",
            "\u001b[0;32m/usr/local/lib/python3.7/dist-packages/pandas/io/parsers.py\u001b[0m in \u001b[0;36m__init__\u001b[0;34m(self, f, engine, **kwds)\u001b[0m\n\u001b[1;32m    946\u001b[0m             \u001b[0mself\u001b[0m\u001b[0;34m.\u001b[0m\u001b[0moptions\u001b[0m\u001b[0;34m[\u001b[0m\u001b[0;34m\"has_index_names\"\u001b[0m\u001b[0;34m]\u001b[0m \u001b[0;34m=\u001b[0m \u001b[0mkwds\u001b[0m\u001b[0;34m[\u001b[0m\u001b[0;34m\"has_index_names\"\u001b[0m\u001b[0;34m]\u001b[0m\u001b[0;34m\u001b[0m\u001b[0;34m\u001b[0m\u001b[0m\n\u001b[1;32m    947\u001b[0m \u001b[0;34m\u001b[0m\u001b[0m\n\u001b[0;32m--> 948\u001b[0;31m         \u001b[0mself\u001b[0m\u001b[0;34m.\u001b[0m\u001b[0m_make_engine\u001b[0m\u001b[0;34m(\u001b[0m\u001b[0mself\u001b[0m\u001b[0;34m.\u001b[0m\u001b[0mengine\u001b[0m\u001b[0;34m)\u001b[0m\u001b[0;34m\u001b[0m\u001b[0;34m\u001b[0m\u001b[0m\n\u001b[0m\u001b[1;32m    949\u001b[0m \u001b[0;34m\u001b[0m\u001b[0m\n\u001b[1;32m    950\u001b[0m     \u001b[0;32mdef\u001b[0m \u001b[0mclose\u001b[0m\u001b[0;34m(\u001b[0m\u001b[0mself\u001b[0m\u001b[0;34m)\u001b[0m\u001b[0;34m:\u001b[0m\u001b[0;34m\u001b[0m\u001b[0;34m\u001b[0m\u001b[0m\n",
            "\u001b[0;32m/usr/local/lib/python3.7/dist-packages/pandas/io/parsers.py\u001b[0m in \u001b[0;36m_make_engine\u001b[0;34m(self, engine)\u001b[0m\n\u001b[1;32m   1178\u001b[0m     \u001b[0;32mdef\u001b[0m \u001b[0m_make_engine\u001b[0m\u001b[0;34m(\u001b[0m\u001b[0mself\u001b[0m\u001b[0;34m,\u001b[0m \u001b[0mengine\u001b[0m\u001b[0;34m=\u001b[0m\u001b[0;34m\"c\"\u001b[0m\u001b[0;34m)\u001b[0m\u001b[0;34m:\u001b[0m\u001b[0;34m\u001b[0m\u001b[0;34m\u001b[0m\u001b[0m\n\u001b[1;32m   1179\u001b[0m         \u001b[0;32mif\u001b[0m \u001b[0mengine\u001b[0m \u001b[0;34m==\u001b[0m \u001b[0;34m\"c\"\u001b[0m\u001b[0;34m:\u001b[0m\u001b[0;34m\u001b[0m\u001b[0;34m\u001b[0m\u001b[0m\n\u001b[0;32m-> 1180\u001b[0;31m             \u001b[0mself\u001b[0m\u001b[0;34m.\u001b[0m\u001b[0m_engine\u001b[0m \u001b[0;34m=\u001b[0m \u001b[0mCParserWrapper\u001b[0m\u001b[0;34m(\u001b[0m\u001b[0mself\u001b[0m\u001b[0;34m.\u001b[0m\u001b[0mf\u001b[0m\u001b[0;34m,\u001b[0m \u001b[0;34m**\u001b[0m\u001b[0mself\u001b[0m\u001b[0;34m.\u001b[0m\u001b[0moptions\u001b[0m\u001b[0;34m)\u001b[0m\u001b[0;34m\u001b[0m\u001b[0;34m\u001b[0m\u001b[0m\n\u001b[0m\u001b[1;32m   1181\u001b[0m         \u001b[0;32melse\u001b[0m\u001b[0;34m:\u001b[0m\u001b[0;34m\u001b[0m\u001b[0;34m\u001b[0m\u001b[0m\n\u001b[1;32m   1182\u001b[0m             \u001b[0;32mif\u001b[0m \u001b[0mengine\u001b[0m \u001b[0;34m==\u001b[0m \u001b[0;34m\"python\"\u001b[0m\u001b[0;34m:\u001b[0m\u001b[0;34m\u001b[0m\u001b[0;34m\u001b[0m\u001b[0m\n",
            "\u001b[0;32m/usr/local/lib/python3.7/dist-packages/pandas/io/parsers.py\u001b[0m in \u001b[0;36m__init__\u001b[0;34m(self, src, **kwds)\u001b[0m\n\u001b[1;32m   2008\u001b[0m         \u001b[0mkwds\u001b[0m\u001b[0;34m[\u001b[0m\u001b[0;34m\"usecols\"\u001b[0m\u001b[0;34m]\u001b[0m \u001b[0;34m=\u001b[0m \u001b[0mself\u001b[0m\u001b[0;34m.\u001b[0m\u001b[0musecols\u001b[0m\u001b[0;34m\u001b[0m\u001b[0;34m\u001b[0m\u001b[0m\n\u001b[1;32m   2009\u001b[0m \u001b[0;34m\u001b[0m\u001b[0m\n\u001b[0;32m-> 2010\u001b[0;31m         \u001b[0mself\u001b[0m\u001b[0;34m.\u001b[0m\u001b[0m_reader\u001b[0m \u001b[0;34m=\u001b[0m \u001b[0mparsers\u001b[0m\u001b[0;34m.\u001b[0m\u001b[0mTextReader\u001b[0m\u001b[0;34m(\u001b[0m\u001b[0msrc\u001b[0m\u001b[0;34m,\u001b[0m \u001b[0;34m**\u001b[0m\u001b[0mkwds\u001b[0m\u001b[0;34m)\u001b[0m\u001b[0;34m\u001b[0m\u001b[0;34m\u001b[0m\u001b[0m\n\u001b[0m\u001b[1;32m   2011\u001b[0m         \u001b[0mself\u001b[0m\u001b[0;34m.\u001b[0m\u001b[0munnamed_cols\u001b[0m \u001b[0;34m=\u001b[0m \u001b[0mself\u001b[0m\u001b[0;34m.\u001b[0m\u001b[0m_reader\u001b[0m\u001b[0;34m.\u001b[0m\u001b[0munnamed_cols\u001b[0m\u001b[0;34m\u001b[0m\u001b[0;34m\u001b[0m\u001b[0m\n\u001b[1;32m   2012\u001b[0m \u001b[0;34m\u001b[0m\u001b[0m\n",
            "\u001b[0;32mpandas/_libs/parsers.pyx\u001b[0m in \u001b[0;36mpandas._libs.parsers.TextReader.__cinit__\u001b[0;34m()\u001b[0m\n",
            "\u001b[0;32mpandas/_libs/parsers.pyx\u001b[0m in \u001b[0;36mpandas._libs.parsers.TextReader._setup_parser_source\u001b[0;34m()\u001b[0m\n",
            "\u001b[0;31mFileNotFoundError\u001b[0m: [Errno 2] No such file or directory: 'Churn_Modelling.csv'"
          ]
        }
      ]
    },
    {
      "cell_type": "markdown",
      "metadata": {
        "id": "HlmE-sQefmVQ"
      },
      "source": [
        "##step 1-3: encoding categorical variables"
      ]
    },
    {
      "cell_type": "code",
      "metadata": {
        "id": "n5UvvDFMaFYg",
        "colab": {
          "base_uri": "https://localhost:8080/"
        },
        "outputId": "94138e25-0789-41af-c6e4-e3cb1ce0bf2e"
      },
      "source": [
        "pip install category_encoders"
      ],
      "execution_count": null,
      "outputs": [
        {
          "output_type": "stream",
          "name": "stdout",
          "text": [
            "Collecting category_encoders\n",
            "  Downloading category_encoders-2.3.0-py2.py3-none-any.whl (82 kB)\n",
            "\u001b[?25l\r\u001b[K     |████                            | 10 kB 23.2 MB/s eta 0:00:01\r\u001b[K     |████████                        | 20 kB 27.9 MB/s eta 0:00:01\r\u001b[K     |████████████                    | 30 kB 32.1 MB/s eta 0:00:01\r\u001b[K     |████████████████                | 40 kB 33.4 MB/s eta 0:00:01\r\u001b[K     |████████████████████            | 51 kB 17.8 MB/s eta 0:00:01\r\u001b[K     |████████████████████████        | 61 kB 17.9 MB/s eta 0:00:01\r\u001b[K     |████████████████████████████    | 71 kB 13.1 MB/s eta 0:00:01\r\u001b[K     |███████████████████████████████▉| 81 kB 14.1 MB/s eta 0:00:01\r\u001b[K     |████████████████████████████████| 82 kB 401 kB/s \n",
            "\u001b[?25hRequirement already satisfied: pandas>=0.21.1 in /usr/local/lib/python3.7/dist-packages (from category_encoders) (1.1.5)\n",
            "Requirement already satisfied: patsy>=0.5.1 in /usr/local/lib/python3.7/dist-packages (from category_encoders) (0.5.2)\n",
            "Requirement already satisfied: scikit-learn>=0.20.0 in /usr/local/lib/python3.7/dist-packages (from category_encoders) (1.0.1)\n",
            "Requirement already satisfied: scipy>=1.0.0 in /usr/local/lib/python3.7/dist-packages (from category_encoders) (1.4.1)\n",
            "Requirement already satisfied: statsmodels>=0.9.0 in /usr/local/lib/python3.7/dist-packages (from category_encoders) (0.10.2)\n",
            "Requirement already satisfied: numpy>=1.14.0 in /usr/local/lib/python3.7/dist-packages (from category_encoders) (1.19.5)\n",
            "Requirement already satisfied: python-dateutil>=2.7.3 in /usr/local/lib/python3.7/dist-packages (from pandas>=0.21.1->category_encoders) (2.8.2)\n",
            "Requirement already satisfied: pytz>=2017.2 in /usr/local/lib/python3.7/dist-packages (from pandas>=0.21.1->category_encoders) (2018.9)\n",
            "Requirement already satisfied: six in /usr/local/lib/python3.7/dist-packages (from patsy>=0.5.1->category_encoders) (1.15.0)\n",
            "Requirement already satisfied: joblib>=0.11 in /usr/local/lib/python3.7/dist-packages (from scikit-learn>=0.20.0->category_encoders) (1.1.0)\n",
            "Requirement already satisfied: threadpoolctl>=2.0.0 in /usr/local/lib/python3.7/dist-packages (from scikit-learn>=0.20.0->category_encoders) (3.0.0)\n",
            "Installing collected packages: category-encoders\n",
            "Successfully installed category-encoders-2.3.0\n"
          ]
        }
      ]
    },
    {
      "cell_type": "code",
      "metadata": {
        "id": "66Bs1nbmWAK-",
        "colab": {
          "base_uri": "https://localhost:8080/"
        },
        "outputId": "1ba75678-7af7-4d7a-e0f1-f8bf0de7aa06"
      },
      "source": [
        "import category_encoders as ce\n",
        "import pandas as pd\n",
        "\n",
        "# create object of Ordinalencoding\n",
        "encoder= ce.OrdinalEncoder(cols=['Geography','Gender'],return_df=True,mapping=[{'col':'Geography','mapping':{'France':1,'Spain':2,'Germany':3}},{'col':'Gender','mapping':{'Female':1,'Male':2}}])\n",
        "dataset_encode = encoder.fit_transform(dataset)"
      ],
      "execution_count": null,
      "outputs": [
        {
          "output_type": "stream",
          "name": "stderr",
          "text": [
            "/usr/local/lib/python3.7/dist-packages/statsmodels/tools/_testing.py:19: FutureWarning: pandas.util.testing is deprecated. Use the functions in the public API at pandas.testing instead.\n",
            "  import pandas.util.testing as tm\n"
          ]
        }
      ]
    },
    {
      "cell_type": "markdown",
      "metadata": {
        "id": "sAn7oPcRf85r"
      },
      "source": [
        "##step 1-4: standardizing the varaibles for clustering "
      ]
    },
    {
      "cell_type": "code",
      "metadata": {
        "id": "N25FqkNHs3EN"
      },
      "source": [
        "X = dataset_encode.iloc[:, 3:13].values\n",
        "y = dataset_encode.iloc[:, -1].values"
      ],
      "execution_count": null,
      "outputs": []
    },
    {
      "cell_type": "code",
      "metadata": {
        "id": "P7erDYhB_vrL",
        "colab": {
          "base_uri": "https://localhost:8080/",
          "height": 423
        },
        "outputId": "e54810e6-39c6-4b04-fe16-6e88d97a2051"
      },
      "source": [
        "X=pd.DataFrame(X)\n",
        "X"
      ],
      "execution_count": null,
      "outputs": [
        {
          "output_type": "execute_result",
          "data": {
            "text/html": [
              "<div>\n",
              "<style scoped>\n",
              "    .dataframe tbody tr th:only-of-type {\n",
              "        vertical-align: middle;\n",
              "    }\n",
              "\n",
              "    .dataframe tbody tr th {\n",
              "        vertical-align: top;\n",
              "    }\n",
              "\n",
              "    .dataframe thead th {\n",
              "        text-align: right;\n",
              "    }\n",
              "</style>\n",
              "<table border=\"1\" class=\"dataframe\">\n",
              "  <thead>\n",
              "    <tr style=\"text-align: right;\">\n",
              "      <th></th>\n",
              "      <th>0</th>\n",
              "      <th>1</th>\n",
              "      <th>2</th>\n",
              "      <th>3</th>\n",
              "      <th>4</th>\n",
              "      <th>5</th>\n",
              "      <th>6</th>\n",
              "      <th>7</th>\n",
              "      <th>8</th>\n",
              "      <th>9</th>\n",
              "    </tr>\n",
              "  </thead>\n",
              "  <tbody>\n",
              "    <tr>\n",
              "      <th>0</th>\n",
              "      <td>619.0</td>\n",
              "      <td>1.0</td>\n",
              "      <td>1.0</td>\n",
              "      <td>42.0</td>\n",
              "      <td>2.0</td>\n",
              "      <td>0.00</td>\n",
              "      <td>1.0</td>\n",
              "      <td>1.0</td>\n",
              "      <td>1.0</td>\n",
              "      <td>101348.88</td>\n",
              "    </tr>\n",
              "    <tr>\n",
              "      <th>1</th>\n",
              "      <td>608.0</td>\n",
              "      <td>2.0</td>\n",
              "      <td>1.0</td>\n",
              "      <td>41.0</td>\n",
              "      <td>1.0</td>\n",
              "      <td>83807.86</td>\n",
              "      <td>1.0</td>\n",
              "      <td>0.0</td>\n",
              "      <td>1.0</td>\n",
              "      <td>112542.58</td>\n",
              "    </tr>\n",
              "    <tr>\n",
              "      <th>2</th>\n",
              "      <td>502.0</td>\n",
              "      <td>1.0</td>\n",
              "      <td>1.0</td>\n",
              "      <td>42.0</td>\n",
              "      <td>8.0</td>\n",
              "      <td>159660.80</td>\n",
              "      <td>3.0</td>\n",
              "      <td>1.0</td>\n",
              "      <td>0.0</td>\n",
              "      <td>113931.57</td>\n",
              "    </tr>\n",
              "    <tr>\n",
              "      <th>3</th>\n",
              "      <td>699.0</td>\n",
              "      <td>1.0</td>\n",
              "      <td>1.0</td>\n",
              "      <td>39.0</td>\n",
              "      <td>1.0</td>\n",
              "      <td>0.00</td>\n",
              "      <td>2.0</td>\n",
              "      <td>0.0</td>\n",
              "      <td>0.0</td>\n",
              "      <td>93826.63</td>\n",
              "    </tr>\n",
              "    <tr>\n",
              "      <th>4</th>\n",
              "      <td>850.0</td>\n",
              "      <td>2.0</td>\n",
              "      <td>1.0</td>\n",
              "      <td>43.0</td>\n",
              "      <td>2.0</td>\n",
              "      <td>125510.82</td>\n",
              "      <td>1.0</td>\n",
              "      <td>1.0</td>\n",
              "      <td>1.0</td>\n",
              "      <td>79084.10</td>\n",
              "    </tr>\n",
              "    <tr>\n",
              "      <th>...</th>\n",
              "      <td>...</td>\n",
              "      <td>...</td>\n",
              "      <td>...</td>\n",
              "      <td>...</td>\n",
              "      <td>...</td>\n",
              "      <td>...</td>\n",
              "      <td>...</td>\n",
              "      <td>...</td>\n",
              "      <td>...</td>\n",
              "      <td>...</td>\n",
              "    </tr>\n",
              "    <tr>\n",
              "      <th>9995</th>\n",
              "      <td>771.0</td>\n",
              "      <td>1.0</td>\n",
              "      <td>2.0</td>\n",
              "      <td>39.0</td>\n",
              "      <td>5.0</td>\n",
              "      <td>0.00</td>\n",
              "      <td>2.0</td>\n",
              "      <td>1.0</td>\n",
              "      <td>0.0</td>\n",
              "      <td>96270.64</td>\n",
              "    </tr>\n",
              "    <tr>\n",
              "      <th>9996</th>\n",
              "      <td>516.0</td>\n",
              "      <td>1.0</td>\n",
              "      <td>2.0</td>\n",
              "      <td>35.0</td>\n",
              "      <td>10.0</td>\n",
              "      <td>57369.61</td>\n",
              "      <td>1.0</td>\n",
              "      <td>1.0</td>\n",
              "      <td>1.0</td>\n",
              "      <td>101699.77</td>\n",
              "    </tr>\n",
              "    <tr>\n",
              "      <th>9997</th>\n",
              "      <td>709.0</td>\n",
              "      <td>1.0</td>\n",
              "      <td>1.0</td>\n",
              "      <td>36.0</td>\n",
              "      <td>7.0</td>\n",
              "      <td>0.00</td>\n",
              "      <td>1.0</td>\n",
              "      <td>0.0</td>\n",
              "      <td>1.0</td>\n",
              "      <td>42085.58</td>\n",
              "    </tr>\n",
              "    <tr>\n",
              "      <th>9998</th>\n",
              "      <td>772.0</td>\n",
              "      <td>3.0</td>\n",
              "      <td>2.0</td>\n",
              "      <td>42.0</td>\n",
              "      <td>3.0</td>\n",
              "      <td>75075.31</td>\n",
              "      <td>2.0</td>\n",
              "      <td>1.0</td>\n",
              "      <td>0.0</td>\n",
              "      <td>92888.52</td>\n",
              "    </tr>\n",
              "    <tr>\n",
              "      <th>9999</th>\n",
              "      <td>792.0</td>\n",
              "      <td>1.0</td>\n",
              "      <td>1.0</td>\n",
              "      <td>28.0</td>\n",
              "      <td>4.0</td>\n",
              "      <td>130142.79</td>\n",
              "      <td>1.0</td>\n",
              "      <td>1.0</td>\n",
              "      <td>0.0</td>\n",
              "      <td>38190.78</td>\n",
              "    </tr>\n",
              "  </tbody>\n",
              "</table>\n",
              "<p>10000 rows × 10 columns</p>\n",
              "</div>"
            ],
            "text/plain": [
              "          0    1    2     3     4          5    6    7    8          9\n",
              "0     619.0  1.0  1.0  42.0   2.0       0.00  1.0  1.0  1.0  101348.88\n",
              "1     608.0  2.0  1.0  41.0   1.0   83807.86  1.0  0.0  1.0  112542.58\n",
              "2     502.0  1.0  1.0  42.0   8.0  159660.80  3.0  1.0  0.0  113931.57\n",
              "3     699.0  1.0  1.0  39.0   1.0       0.00  2.0  0.0  0.0   93826.63\n",
              "4     850.0  2.0  1.0  43.0   2.0  125510.82  1.0  1.0  1.0   79084.10\n",
              "...     ...  ...  ...   ...   ...        ...  ...  ...  ...        ...\n",
              "9995  771.0  1.0  2.0  39.0   5.0       0.00  2.0  1.0  0.0   96270.64\n",
              "9996  516.0  1.0  2.0  35.0  10.0   57369.61  1.0  1.0  1.0  101699.77\n",
              "9997  709.0  1.0  1.0  36.0   7.0       0.00  1.0  0.0  1.0   42085.58\n",
              "9998  772.0  3.0  2.0  42.0   3.0   75075.31  2.0  1.0  0.0   92888.52\n",
              "9999  792.0  1.0  1.0  28.0   4.0  130142.79  1.0  1.0  0.0   38190.78\n",
              "\n",
              "[10000 rows x 10 columns]"
            ]
          },
          "metadata": {},
          "execution_count": 7
        }
      ]
    },
    {
      "cell_type": "code",
      "metadata": {
        "id": "s6aHq0RGW1Ui",
        "colab": {
          "base_uri": "https://localhost:8080/",
          "height": 423
        },
        "outputId": "83cb6df1-f58b-412a-ef7e-b826bd4741ef"
      },
      "source": [
        "X1=X.drop([1,2,3,4,7,8,9], axis=1)\n",
        "X1"
      ],
      "execution_count": null,
      "outputs": [
        {
          "output_type": "execute_result",
          "data": {
            "text/html": [
              "<div>\n",
              "<style scoped>\n",
              "    .dataframe tbody tr th:only-of-type {\n",
              "        vertical-align: middle;\n",
              "    }\n",
              "\n",
              "    .dataframe tbody tr th {\n",
              "        vertical-align: top;\n",
              "    }\n",
              "\n",
              "    .dataframe thead th {\n",
              "        text-align: right;\n",
              "    }\n",
              "</style>\n",
              "<table border=\"1\" class=\"dataframe\">\n",
              "  <thead>\n",
              "    <tr style=\"text-align: right;\">\n",
              "      <th></th>\n",
              "      <th>0</th>\n",
              "      <th>5</th>\n",
              "      <th>6</th>\n",
              "    </tr>\n",
              "  </thead>\n",
              "  <tbody>\n",
              "    <tr>\n",
              "      <th>0</th>\n",
              "      <td>619.0</td>\n",
              "      <td>0.00</td>\n",
              "      <td>1.0</td>\n",
              "    </tr>\n",
              "    <tr>\n",
              "      <th>1</th>\n",
              "      <td>608.0</td>\n",
              "      <td>83807.86</td>\n",
              "      <td>1.0</td>\n",
              "    </tr>\n",
              "    <tr>\n",
              "      <th>2</th>\n",
              "      <td>502.0</td>\n",
              "      <td>159660.80</td>\n",
              "      <td>3.0</td>\n",
              "    </tr>\n",
              "    <tr>\n",
              "      <th>3</th>\n",
              "      <td>699.0</td>\n",
              "      <td>0.00</td>\n",
              "      <td>2.0</td>\n",
              "    </tr>\n",
              "    <tr>\n",
              "      <th>4</th>\n",
              "      <td>850.0</td>\n",
              "      <td>125510.82</td>\n",
              "      <td>1.0</td>\n",
              "    </tr>\n",
              "    <tr>\n",
              "      <th>...</th>\n",
              "      <td>...</td>\n",
              "      <td>...</td>\n",
              "      <td>...</td>\n",
              "    </tr>\n",
              "    <tr>\n",
              "      <th>9995</th>\n",
              "      <td>771.0</td>\n",
              "      <td>0.00</td>\n",
              "      <td>2.0</td>\n",
              "    </tr>\n",
              "    <tr>\n",
              "      <th>9996</th>\n",
              "      <td>516.0</td>\n",
              "      <td>57369.61</td>\n",
              "      <td>1.0</td>\n",
              "    </tr>\n",
              "    <tr>\n",
              "      <th>9997</th>\n",
              "      <td>709.0</td>\n",
              "      <td>0.00</td>\n",
              "      <td>1.0</td>\n",
              "    </tr>\n",
              "    <tr>\n",
              "      <th>9998</th>\n",
              "      <td>772.0</td>\n",
              "      <td>75075.31</td>\n",
              "      <td>2.0</td>\n",
              "    </tr>\n",
              "    <tr>\n",
              "      <th>9999</th>\n",
              "      <td>792.0</td>\n",
              "      <td>130142.79</td>\n",
              "      <td>1.0</td>\n",
              "    </tr>\n",
              "  </tbody>\n",
              "</table>\n",
              "<p>10000 rows × 3 columns</p>\n",
              "</div>"
            ],
            "text/plain": [
              "          0          5    6\n",
              "0     619.0       0.00  1.0\n",
              "1     608.0   83807.86  1.0\n",
              "2     502.0  159660.80  3.0\n",
              "3     699.0       0.00  2.0\n",
              "4     850.0  125510.82  1.0\n",
              "...     ...        ...  ...\n",
              "9995  771.0       0.00  2.0\n",
              "9996  516.0   57369.61  1.0\n",
              "9997  709.0       0.00  1.0\n",
              "9998  772.0   75075.31  2.0\n",
              "9999  792.0  130142.79  1.0\n",
              "\n",
              "[10000 rows x 3 columns]"
            ]
          },
          "metadata": {},
          "execution_count": 8
        }
      ]
    },
    {
      "cell_type": "code",
      "metadata": {
        "id": "PC25r5RBZosc",
        "colab": {
          "base_uri": "https://localhost:8080/"
        },
        "outputId": "4a0efd12-4466-4b31-f7cd-ca8401630bd7"
      },
      "source": [
        "from sklearn.preprocessing import MinMaxScaler\n",
        "min_max = MinMaxScaler()\n",
        "data_scaled = min_max.fit(X1)\n",
        "data_scaled = data_scaled.transform(X1)\n",
        "data_scaled"
      ],
      "execution_count": null,
      "outputs": [
        {
          "output_type": "execute_result",
          "data": {
            "text/plain": [
              "array([[0.538     , 0.        , 0.        ],\n",
              "       [0.516     , 0.33403148, 0.        ],\n",
              "       [0.304     , 0.63635718, 0.66666667],\n",
              "       ...,\n",
              "       [0.718     , 0.        , 0.        ],\n",
              "       [0.844     , 0.29922631, 0.33333333],\n",
              "       [0.884     , 0.51870777, 0.        ]])"
            ]
          },
          "metadata": {},
          "execution_count": 9
        }
      ]
    },
    {
      "cell_type": "markdown",
      "metadata": {
        "id": "Xa_ur8QisJ2L"
      },
      "source": [
        "# **step2: clustering**"
      ]
    },
    {
      "cell_type": "markdown",
      "metadata": {
        "id": "KhYJ47qSZeTk"
      },
      "source": [
        "## Hierarchical clustering"
      ]
    },
    {
      "cell_type": "markdown",
      "metadata": {
        "id": "c6m9qsHksSY_"
      },
      "source": [
        "### Drawing the dendrogram"
      ]
    },
    {
      "cell_type": "code",
      "metadata": {
        "colab": {
          "base_uri": "https://localhost:8080/"
        },
        "id": "u0ukOd6ZU212",
        "outputId": "000311ee-eacb-48ae-d105-a3424951e04d"
      },
      "source": [
        "import scipy.cluster.hierarchy as sch\n",
        "dendrogram = sch.dendrogram(sch.linkage(data_scaled, method = 'ward'))"
      ],
      "execution_count": null,
      "outputs": [
        {
          "output_type": "error",
          "ename": "KeyboardInterrupt",
          "evalue": "ignored",
          "traceback": [
            "\u001b[0;31m---------------------------------------------------------------------------\u001b[0m",
            "\u001b[0;31mKeyboardInterrupt\u001b[0m                         Traceback (most recent call last)",
            "\u001b[0;32m<ipython-input-145-e70a771c0446>\u001b[0m in \u001b[0;36m<module>\u001b[0;34m()\u001b[0m\n\u001b[1;32m      1\u001b[0m \u001b[0;32mimport\u001b[0m \u001b[0mscipy\u001b[0m\u001b[0;34m.\u001b[0m\u001b[0mcluster\u001b[0m\u001b[0;34m.\u001b[0m\u001b[0mhierarchy\u001b[0m \u001b[0;32mas\u001b[0m \u001b[0msch\u001b[0m\u001b[0;34m\u001b[0m\u001b[0;34m\u001b[0m\u001b[0m\n\u001b[0;32m----> 2\u001b[0;31m \u001b[0mdendrogram\u001b[0m \u001b[0;34m=\u001b[0m \u001b[0msch\u001b[0m\u001b[0;34m.\u001b[0m\u001b[0mdendrogram\u001b[0m\u001b[0;34m(\u001b[0m\u001b[0msch\u001b[0m\u001b[0;34m.\u001b[0m\u001b[0mlinkage\u001b[0m\u001b[0;34m(\u001b[0m\u001b[0mdata_scaled\u001b[0m\u001b[0;34m,\u001b[0m \u001b[0mmethod\u001b[0m \u001b[0;34m=\u001b[0m \u001b[0;34m'ward'\u001b[0m\u001b[0;34m)\u001b[0m\u001b[0;34m)\u001b[0m\u001b[0;34m\u001b[0m\u001b[0;34m\u001b[0m\u001b[0m\n\u001b[0m",
            "\u001b[0;32m/usr/local/lib/python3.7/dist-packages/scipy/cluster/hierarchy.py\u001b[0m in \u001b[0;36mdendrogram\u001b[0;34m(Z, p, truncate_mode, color_threshold, get_leaves, orientation, labels, count_sort, distance_sort, show_leaf_counts, no_plot, no_labels, leaf_font_size, leaf_rotation, leaf_label_func, show_contracted, link_color_func, ax, above_threshold_color)\u001b[0m\n\u001b[1;32m   3276\u001b[0m                          \"'bottom', or 'right'\")\n\u001b[1;32m   3277\u001b[0m \u001b[0;34m\u001b[0m\u001b[0m\n\u001b[0;32m-> 3278\u001b[0;31m     \u001b[0mis_valid_linkage\u001b[0m\u001b[0;34m(\u001b[0m\u001b[0mZ\u001b[0m\u001b[0;34m,\u001b[0m \u001b[0mthrow\u001b[0m\u001b[0;34m=\u001b[0m\u001b[0;32mTrue\u001b[0m\u001b[0;34m,\u001b[0m \u001b[0mname\u001b[0m\u001b[0;34m=\u001b[0m\u001b[0;34m'Z'\u001b[0m\u001b[0;34m)\u001b[0m\u001b[0;34m\u001b[0m\u001b[0;34m\u001b[0m\u001b[0m\n\u001b[0m\u001b[1;32m   3279\u001b[0m     \u001b[0mZs\u001b[0m \u001b[0;34m=\u001b[0m \u001b[0mZ\u001b[0m\u001b[0;34m.\u001b[0m\u001b[0mshape\u001b[0m\u001b[0;34m\u001b[0m\u001b[0;34m\u001b[0m\u001b[0m\n\u001b[1;32m   3280\u001b[0m     \u001b[0mn\u001b[0m \u001b[0;34m=\u001b[0m \u001b[0mZs\u001b[0m\u001b[0;34m[\u001b[0m\u001b[0;36m0\u001b[0m\u001b[0;34m]\u001b[0m \u001b[0;34m+\u001b[0m \u001b[0;36m1\u001b[0m\u001b[0;34m\u001b[0m\u001b[0;34m\u001b[0m\u001b[0m\n",
            "\u001b[0;32m/usr/local/lib/python3.7/dist-packages/scipy/cluster/hierarchy.py\u001b[0m in \u001b[0;36mis_valid_linkage\u001b[0;34m(Z, warning, throw, name)\u001b[0m\n\u001b[1;32m   2275\u001b[0m                 raise ValueError('Linkage %scontains negative counts.' %\n\u001b[1;32m   2276\u001b[0m                                  name_str)\n\u001b[0;32m-> 2277\u001b[0;31m         \u001b[0;32mif\u001b[0m \u001b[0m_check_hierarchy_uses_cluster_before_formed\u001b[0m\u001b[0;34m(\u001b[0m\u001b[0mZ\u001b[0m\u001b[0;34m)\u001b[0m\u001b[0;34m:\u001b[0m\u001b[0;34m\u001b[0m\u001b[0;34m\u001b[0m\u001b[0m\n\u001b[0m\u001b[1;32m   2278\u001b[0m             raise ValueError('Linkage %suses non-singleton cluster before '\n\u001b[1;32m   2279\u001b[0m                              'it is formed.' % name_str)\n",
            "\u001b[0;32m/usr/local/lib/python3.7/dist-packages/scipy/cluster/hierarchy.py\u001b[0m in \u001b[0;36m_check_hierarchy_uses_cluster_before_formed\u001b[0;34m(Z)\u001b[0m\n\u001b[1;32m   2294\u001b[0m     \u001b[0mn\u001b[0m \u001b[0;34m=\u001b[0m \u001b[0mZ\u001b[0m\u001b[0;34m.\u001b[0m\u001b[0mshape\u001b[0m\u001b[0;34m[\u001b[0m\u001b[0;36m0\u001b[0m\u001b[0;34m]\u001b[0m \u001b[0;34m+\u001b[0m \u001b[0;36m1\u001b[0m\u001b[0;34m\u001b[0m\u001b[0;34m\u001b[0m\u001b[0m\n\u001b[1;32m   2295\u001b[0m     \u001b[0;32mfor\u001b[0m \u001b[0mi\u001b[0m \u001b[0;32min\u001b[0m \u001b[0mxrange\u001b[0m\u001b[0;34m(\u001b[0m\u001b[0;36m0\u001b[0m\u001b[0;34m,\u001b[0m \u001b[0mn\u001b[0m \u001b[0;34m-\u001b[0m \u001b[0;36m1\u001b[0m\u001b[0;34m)\u001b[0m\u001b[0;34m:\u001b[0m\u001b[0;34m\u001b[0m\u001b[0;34m\u001b[0m\u001b[0m\n\u001b[0;32m-> 2296\u001b[0;31m         \u001b[0;32mif\u001b[0m \u001b[0mZ\u001b[0m\u001b[0;34m[\u001b[0m\u001b[0mi\u001b[0m\u001b[0;34m,\u001b[0m \u001b[0;36m0\u001b[0m\u001b[0;34m]\u001b[0m \u001b[0;34m>=\u001b[0m \u001b[0mn\u001b[0m \u001b[0;34m+\u001b[0m \u001b[0mi\u001b[0m \u001b[0;32mor\u001b[0m \u001b[0mZ\u001b[0m\u001b[0;34m[\u001b[0m\u001b[0mi\u001b[0m\u001b[0;34m,\u001b[0m \u001b[0;36m1\u001b[0m\u001b[0;34m]\u001b[0m \u001b[0;34m>=\u001b[0m \u001b[0mn\u001b[0m \u001b[0;34m+\u001b[0m \u001b[0mi\u001b[0m\u001b[0;34m:\u001b[0m\u001b[0;34m\u001b[0m\u001b[0;34m\u001b[0m\u001b[0m\n\u001b[0m\u001b[1;32m   2297\u001b[0m             \u001b[0;32mreturn\u001b[0m \u001b[0;32mTrue\u001b[0m\u001b[0;34m\u001b[0m\u001b[0;34m\u001b[0m\u001b[0m\n\u001b[1;32m   2298\u001b[0m     \u001b[0;32mreturn\u001b[0m \u001b[0;32mFalse\u001b[0m\u001b[0;34m\u001b[0m\u001b[0;34m\u001b[0m\u001b[0m\n",
            "\u001b[0;31mKeyboardInterrupt\u001b[0m: "
          ]
        }
      ]
    },
    {
      "cell_type": "markdown",
      "metadata": {
        "id": "vTyWuJ9wU2b1"
      },
      "source": [
        "### Using the dendrogram to find the optimal number of clusters"
      ]
    },
    {
      "cell_type": "code",
      "metadata": {
        "id": "CkD2tv2in0Se"
      },
      "source": [
        "import scipy.cluster.hierarchy as sch\n",
        "dendrogram = sch.dendrogram(sch.linkage(data_scaled, method = 'ward'))\n",
        "plt.axhline(y=20, color='r', linestyle='--')\n",
        "plt.title('Dendrogram')\n",
        "plt.xlabel('Customers')\n",
        "plt.ylabel('distances')\n",
        "plt.show()"
      ],
      "execution_count": null,
      "outputs": []
    },
    {
      "cell_type": "markdown",
      "metadata": {
        "id": "rVfZCMKwtEFh"
      },
      "source": [
        "### predicting the cluster for each observation"
      ]
    },
    {
      "cell_type": "code",
      "metadata": {
        "id": "u0OtwKakmv0q"
      },
      "source": [
        "from sklearn.cluster import AgglomerativeClustering\n",
        "hc = AgglomerativeClustering(n_clusters = 4, affinity = 'euclidean', linkage = 'ward')\n",
        "y_hc = hc.fit_predict(data_scaled)"
      ],
      "execution_count": null,
      "outputs": []
    },
    {
      "cell_type": "markdown",
      "metadata": {
        "id": "9oKcN1O-4iZj"
      },
      "source": [
        "step 2-4: merging and reordering dataset for classification"
      ]
    },
    {
      "cell_type": "code",
      "metadata": {
        "id": "w__W9cS0rlQ6"
      },
      "source": [
        "dataset_classification = dataset_encode.iloc[:,3:14].values\n",
        "df1=pd.DataFrame(X)\n",
        "df2=pd.DataFrame(y_hc.reshape(len(y_hc),1))\n",
        "df1 = df1.rename(columns={0: 'credit',1:'Geography',2:'gender',3:'age',4:'tenure',5:'balance',6:'num_prod',7:'has_credit',8:'is_active',9:'estimated_salary',10:'Exited'})\n",
        "df2 = df2.rename(columns={0: 'cluster'})\n",
        "result = pd.concat([df1, df2], axis=1)\n",
        "cols=result.columns.tolist()\n",
        "cols=cols[-1:]+cols[:-1]\n",
        "dataset_classification=result[cols]"
      ],
      "execution_count": null,
      "outputs": []
    },
    {
      "cell_type": "code",
      "metadata": {
        "colab": {
          "base_uri": "https://localhost:8080/"
        },
        "id": "Kwk2oD42woqg",
        "outputId": "92596896-2521-4dae-df30-ac2270e62ef7"
      },
      "source": [
        "dataset_classification"
      ],
      "execution_count": null,
      "outputs": [
        {
          "output_type": "execute_result",
          "data": {
            "text/html": [
              "<div>\n",
              "<style scoped>\n",
              "    .dataframe tbody tr th:only-of-type {\n",
              "        vertical-align: middle;\n",
              "    }\n",
              "\n",
              "    .dataframe tbody tr th {\n",
              "        vertical-align: top;\n",
              "    }\n",
              "\n",
              "    .dataframe thead th {\n",
              "        text-align: right;\n",
              "    }\n",
              "</style>\n",
              "<table border=\"1\" class=\"dataframe\">\n",
              "  <thead>\n",
              "    <tr style=\"text-align: right;\">\n",
              "      <th></th>\n",
              "      <th>cluster</th>\n",
              "      <th>credit</th>\n",
              "      <th>Geography</th>\n",
              "      <th>gender</th>\n",
              "      <th>age</th>\n",
              "      <th>tenure</th>\n",
              "      <th>balance</th>\n",
              "      <th>num_prod</th>\n",
              "      <th>has_credit</th>\n",
              "      <th>is_active</th>\n",
              "      <th>estimated_salary</th>\n",
              "    </tr>\n",
              "  </thead>\n",
              "  <tbody>\n",
              "    <tr>\n",
              "      <th>0</th>\n",
              "      <td>1</td>\n",
              "      <td>619.0</td>\n",
              "      <td>1.0</td>\n",
              "      <td>1.0</td>\n",
              "      <td>42.0</td>\n",
              "      <td>2.0</td>\n",
              "      <td>0.00</td>\n",
              "      <td>1.0</td>\n",
              "      <td>1.0</td>\n",
              "      <td>1.0</td>\n",
              "      <td>101348.88</td>\n",
              "    </tr>\n",
              "    <tr>\n",
              "      <th>1</th>\n",
              "      <td>2</td>\n",
              "      <td>608.0</td>\n",
              "      <td>2.0</td>\n",
              "      <td>1.0</td>\n",
              "      <td>41.0</td>\n",
              "      <td>1.0</td>\n",
              "      <td>83807.86</td>\n",
              "      <td>1.0</td>\n",
              "      <td>0.0</td>\n",
              "      <td>1.0</td>\n",
              "      <td>112542.58</td>\n",
              "    </tr>\n",
              "    <tr>\n",
              "      <th>2</th>\n",
              "      <td>2</td>\n",
              "      <td>502.0</td>\n",
              "      <td>1.0</td>\n",
              "      <td>1.0</td>\n",
              "      <td>42.0</td>\n",
              "      <td>8.0</td>\n",
              "      <td>159660.80</td>\n",
              "      <td>3.0</td>\n",
              "      <td>1.0</td>\n",
              "      <td>0.0</td>\n",
              "      <td>113931.57</td>\n",
              "    </tr>\n",
              "    <tr>\n",
              "      <th>3</th>\n",
              "      <td>3</td>\n",
              "      <td>699.0</td>\n",
              "      <td>1.0</td>\n",
              "      <td>1.0</td>\n",
              "      <td>39.0</td>\n",
              "      <td>1.0</td>\n",
              "      <td>0.00</td>\n",
              "      <td>2.0</td>\n",
              "      <td>0.0</td>\n",
              "      <td>0.0</td>\n",
              "      <td>93826.63</td>\n",
              "    </tr>\n",
              "    <tr>\n",
              "      <th>4</th>\n",
              "      <td>0</td>\n",
              "      <td>850.0</td>\n",
              "      <td>2.0</td>\n",
              "      <td>1.0</td>\n",
              "      <td>43.0</td>\n",
              "      <td>2.0</td>\n",
              "      <td>125510.82</td>\n",
              "      <td>1.0</td>\n",
              "      <td>1.0</td>\n",
              "      <td>1.0</td>\n",
              "      <td>79084.10</td>\n",
              "    </tr>\n",
              "    <tr>\n",
              "      <th>...</th>\n",
              "      <td>...</td>\n",
              "      <td>...</td>\n",
              "      <td>...</td>\n",
              "      <td>...</td>\n",
              "      <td>...</td>\n",
              "      <td>...</td>\n",
              "      <td>...</td>\n",
              "      <td>...</td>\n",
              "      <td>...</td>\n",
              "      <td>...</td>\n",
              "      <td>...</td>\n",
              "    </tr>\n",
              "    <tr>\n",
              "      <th>9995</th>\n",
              "      <td>3</td>\n",
              "      <td>771.0</td>\n",
              "      <td>1.0</td>\n",
              "      <td>2.0</td>\n",
              "      <td>39.0</td>\n",
              "      <td>5.0</td>\n",
              "      <td>0.00</td>\n",
              "      <td>2.0</td>\n",
              "      <td>1.0</td>\n",
              "      <td>0.0</td>\n",
              "      <td>96270.64</td>\n",
              "    </tr>\n",
              "    <tr>\n",
              "      <th>9996</th>\n",
              "      <td>2</td>\n",
              "      <td>516.0</td>\n",
              "      <td>1.0</td>\n",
              "      <td>2.0</td>\n",
              "      <td>35.0</td>\n",
              "      <td>10.0</td>\n",
              "      <td>57369.61</td>\n",
              "      <td>1.0</td>\n",
              "      <td>1.0</td>\n",
              "      <td>1.0</td>\n",
              "      <td>101699.77</td>\n",
              "    </tr>\n",
              "    <tr>\n",
              "      <th>9997</th>\n",
              "      <td>3</td>\n",
              "      <td>709.0</td>\n",
              "      <td>1.0</td>\n",
              "      <td>1.0</td>\n",
              "      <td>36.0</td>\n",
              "      <td>7.0</td>\n",
              "      <td>0.00</td>\n",
              "      <td>1.0</td>\n",
              "      <td>0.0</td>\n",
              "      <td>1.0</td>\n",
              "      <td>42085.58</td>\n",
              "    </tr>\n",
              "    <tr>\n",
              "      <th>9998</th>\n",
              "      <td>0</td>\n",
              "      <td>772.0</td>\n",
              "      <td>3.0</td>\n",
              "      <td>2.0</td>\n",
              "      <td>42.0</td>\n",
              "      <td>3.0</td>\n",
              "      <td>75075.31</td>\n",
              "      <td>2.0</td>\n",
              "      <td>1.0</td>\n",
              "      <td>0.0</td>\n",
              "      <td>92888.52</td>\n",
              "    </tr>\n",
              "    <tr>\n",
              "      <th>9999</th>\n",
              "      <td>0</td>\n",
              "      <td>792.0</td>\n",
              "      <td>1.0</td>\n",
              "      <td>1.0</td>\n",
              "      <td>28.0</td>\n",
              "      <td>4.0</td>\n",
              "      <td>130142.79</td>\n",
              "      <td>1.0</td>\n",
              "      <td>1.0</td>\n",
              "      <td>0.0</td>\n",
              "      <td>38190.78</td>\n",
              "    </tr>\n",
              "  </tbody>\n",
              "</table>\n",
              "<p>10000 rows × 11 columns</p>\n",
              "</div>"
            ],
            "text/plain": [
              "      cluster  credit  Geography  ...  has_credit  is_active  estimated_salary\n",
              "0           1   619.0        1.0  ...         1.0        1.0         101348.88\n",
              "1           2   608.0        2.0  ...         0.0        1.0         112542.58\n",
              "2           2   502.0        1.0  ...         1.0        0.0         113931.57\n",
              "3           3   699.0        1.0  ...         0.0        0.0          93826.63\n",
              "4           0   850.0        2.0  ...         1.0        1.0          79084.10\n",
              "...       ...     ...        ...  ...         ...        ...               ...\n",
              "9995        3   771.0        1.0  ...         1.0        0.0          96270.64\n",
              "9996        2   516.0        1.0  ...         1.0        1.0         101699.77\n",
              "9997        3   709.0        1.0  ...         0.0        1.0          42085.58\n",
              "9998        0   772.0        3.0  ...         1.0        0.0          92888.52\n",
              "9999        0   792.0        1.0  ...         1.0        0.0          38190.78\n",
              "\n",
              "[10000 rows x 11 columns]"
            ]
          },
          "metadata": {},
          "execution_count": 215
        }
      ]
    },
    {
      "cell_type": "markdown",
      "metadata": {
        "id": "RXEvv8B80S_q"
      },
      "source": [
        "## K-means clustering\n"
      ]
    },
    {
      "cell_type": "markdown",
      "metadata": {
        "id": "W_ftrPo2EWr9"
      },
      "source": [
        "### finding the optimal number of clusters(Elbow method with WCSS)"
      ]
    },
    {
      "cell_type": "code",
      "metadata": {
        "colab": {
          "base_uri": "https://localhost:8080/",
          "height": 295
        },
        "id": "MNkSiX9_0OK1",
        "outputId": "5af38b54-093f-40db-9709-a32a425b126d"
      },
      "source": [
        "from sklearn.cluster import KMeans\n",
        "wcss = []\n",
        "for i in range(1, 20):\n",
        "    kmeans = KMeans(n_clusters = i, init = 'k-means++', random_state = 42)\n",
        "    kmeans.fit(data_scaled)\n",
        "    wcss.append(kmeans.inertia_)\n",
        "plt.plot(range(1, 20), wcss)\n",
        "plt.axvline(x=7, color='r', linestyle='--')\n",
        "plt.title('The Elbow Method')\n",
        "plt.xlabel('Number of clusters')\n",
        "plt.ylabel('WCSS')\n",
        "plt.show()"
      ],
      "execution_count": null,
      "outputs": [
        {
          "output_type": "display_data",
          "data": {
            "image/png": "[encoded data removed]",
            "text/plain": [
              "<Figure size 432x288 with 1 Axes>"
            ]
          },
          "metadata": {
            "needs_background": "light"
          }
        }
      ]
    },
    {
      "cell_type": "markdown",
      "metadata": {
        "id": "Pz_OyrzmEk57"
      },
      "source": [
        "### introducing k-means clustering "
      ]
    },
    {
      "cell_type": "code",
      "metadata": {
        "id": "GaHF02Hy0u0c"
      },
      "source": [
        "from sklearn.cluster import KMeans\n",
        "kmeans = KMeans(n_clusters = 7, init = 'k-means++', random_state = 42)\n",
        "y_kmeans = kmeans.fit_predict(data_scaled)"
      ],
      "execution_count": null,
      "outputs": []
    },
    {
      "cell_type": "markdown",
      "metadata": {
        "id": "0T25AsYmEy3s"
      },
      "source": [
        "### assigning the label of cluster to each "
      ]
    },
    {
      "cell_type": "code",
      "metadata": {
        "id": "XTRKEP5H1agY"
      },
      "source": [
        "df1=pd.DataFrame(X)\n",
        "df2=pd.DataFrame(y_kmeans.reshape(len(y_kmeans),1))\n",
        "df1 = df1.rename(columns={0: 'credit',1:'Geography',2:'gender',3:'age',4:'tenure',5:'balance',6:'num_prod',7:'has_credit',8:'is_active',9:'estimated_salary',10:'Exited'})\n",
        "df2 = df2.rename(columns={0: 'cluster'})\n",
        "result = pd.concat([df1, df2], axis=1)\n",
        "cols=result.columns.tolist()\n",
        "cols=cols[-1:]+cols[:-1]\n",
        "dataset_classification=result[cols]"
      ],
      "execution_count": null,
      "outputs": []
    },
    {
      "cell_type": "code",
      "metadata": {
        "colab": {
          "base_uri": "https://localhost:8080/",
          "height": 443
        },
        "id": "aVixgCWm1xFm",
        "outputId": "259537f9-8a96-4502-c73b-36d3e2e77fab"
      },
      "source": [
        "dataset_classification"
      ],
      "execution_count": null,
      "outputs": [
        {
          "output_type": "execute_result",
          "data": {
            "text/html": [
              "<div>\n",
              "<style scoped>\n",
              "    .dataframe tbody tr th:only-of-type {\n",
              "        vertical-align: middle;\n",
              "    }\n",
              "\n",
              "    .dataframe tbody tr th {\n",
              "        vertical-align: top;\n",
              "    }\n",
              "\n",
              "    .dataframe thead th {\n",
              "        text-align: right;\n",
              "    }\n",
              "</style>\n",
              "<table border=\"1\" class=\"dataframe\">\n",
              "  <thead>\n",
              "    <tr style=\"text-align: right;\">\n",
              "      <th></th>\n",
              "      <th>cluster</th>\n",
              "      <th>credit</th>\n",
              "      <th>Geography</th>\n",
              "      <th>gender</th>\n",
              "      <th>age</th>\n",
              "      <th>tenure</th>\n",
              "      <th>balance</th>\n",
              "      <th>num_prod</th>\n",
              "      <th>has_credit</th>\n",
              "      <th>is_active</th>\n",
              "      <th>estimated_salary</th>\n",
              "    </tr>\n",
              "  </thead>\n",
              "  <tbody>\n",
              "    <tr>\n",
              "      <th>0</th>\n",
              "      <td>6</td>\n",
              "      <td>619.0</td>\n",
              "      <td>1.0</td>\n",
              "      <td>1.0</td>\n",
              "      <td>42.0</td>\n",
              "      <td>2.0</td>\n",
              "      <td>0.00</td>\n",
              "      <td>1.0</td>\n",
              "      <td>1.0</td>\n",
              "      <td>1.0</td>\n",
              "      <td>101348.88</td>\n",
              "    </tr>\n",
              "    <tr>\n",
              "      <th>1</th>\n",
              "      <td>3</td>\n",
              "      <td>608.0</td>\n",
              "      <td>2.0</td>\n",
              "      <td>1.0</td>\n",
              "      <td>41.0</td>\n",
              "      <td>1.0</td>\n",
              "      <td>83807.86</td>\n",
              "      <td>1.0</td>\n",
              "      <td>0.0</td>\n",
              "      <td>1.0</td>\n",
              "      <td>112542.58</td>\n",
              "    </tr>\n",
              "    <tr>\n",
              "      <th>2</th>\n",
              "      <td>1</td>\n",
              "      <td>502.0</td>\n",
              "      <td>1.0</td>\n",
              "      <td>1.0</td>\n",
              "      <td>42.0</td>\n",
              "      <td>8.0</td>\n",
              "      <td>159660.80</td>\n",
              "      <td>3.0</td>\n",
              "      <td>1.0</td>\n",
              "      <td>0.0</td>\n",
              "      <td>113931.57</td>\n",
              "    </tr>\n",
              "    <tr>\n",
              "      <th>3</th>\n",
              "      <td>0</td>\n",
              "      <td>699.0</td>\n",
              "      <td>1.0</td>\n",
              "      <td>1.0</td>\n",
              "      <td>39.0</td>\n",
              "      <td>1.0</td>\n",
              "      <td>0.00</td>\n",
              "      <td>2.0</td>\n",
              "      <td>0.0</td>\n",
              "      <td>0.0</td>\n",
              "      <td>93826.63</td>\n",
              "    </tr>\n",
              "    <tr>\n",
              "      <th>4</th>\n",
              "      <td>2</td>\n",
              "      <td>850.0</td>\n",
              "      <td>2.0</td>\n",
              "      <td>1.0</td>\n",
              "      <td>43.0</td>\n",
              "      <td>2.0</td>\n",
              "      <td>125510.82</td>\n",
              "      <td>1.0</td>\n",
              "      <td>1.0</td>\n",
              "      <td>1.0</td>\n",
              "      <td>79084.10</td>\n",
              "    </tr>\n",
              "    <tr>\n",
              "      <th>...</th>\n",
              "      <td>...</td>\n",
              "      <td>...</td>\n",
              "      <td>...</td>\n",
              "      <td>...</td>\n",
              "      <td>...</td>\n",
              "      <td>...</td>\n",
              "      <td>...</td>\n",
              "      <td>...</td>\n",
              "      <td>...</td>\n",
              "      <td>...</td>\n",
              "      <td>...</td>\n",
              "    </tr>\n",
              "    <tr>\n",
              "      <th>9995</th>\n",
              "      <td>0</td>\n",
              "      <td>771.0</td>\n",
              "      <td>1.0</td>\n",
              "      <td>2.0</td>\n",
              "      <td>39.0</td>\n",
              "      <td>5.0</td>\n",
              "      <td>0.00</td>\n",
              "      <td>2.0</td>\n",
              "      <td>1.0</td>\n",
              "      <td>0.0</td>\n",
              "      <td>96270.64</td>\n",
              "    </tr>\n",
              "    <tr>\n",
              "      <th>9996</th>\n",
              "      <td>3</td>\n",
              "      <td>516.0</td>\n",
              "      <td>1.0</td>\n",
              "      <td>2.0</td>\n",
              "      <td>35.0</td>\n",
              "      <td>10.0</td>\n",
              "      <td>57369.61</td>\n",
              "      <td>1.0</td>\n",
              "      <td>1.0</td>\n",
              "      <td>1.0</td>\n",
              "      <td>101699.77</td>\n",
              "    </tr>\n",
              "    <tr>\n",
              "      <th>9997</th>\n",
              "      <td>6</td>\n",
              "      <td>709.0</td>\n",
              "      <td>1.0</td>\n",
              "      <td>1.0</td>\n",
              "      <td>36.0</td>\n",
              "      <td>7.0</td>\n",
              "      <td>0.00</td>\n",
              "      <td>1.0</td>\n",
              "      <td>0.0</td>\n",
              "      <td>1.0</td>\n",
              "      <td>42085.58</td>\n",
              "    </tr>\n",
              "    <tr>\n",
              "      <th>9998</th>\n",
              "      <td>5</td>\n",
              "      <td>772.0</td>\n",
              "      <td>3.0</td>\n",
              "      <td>2.0</td>\n",
              "      <td>42.0</td>\n",
              "      <td>3.0</td>\n",
              "      <td>75075.31</td>\n",
              "      <td>2.0</td>\n",
              "      <td>1.0</td>\n",
              "      <td>0.0</td>\n",
              "      <td>92888.52</td>\n",
              "    </tr>\n",
              "    <tr>\n",
              "      <th>9999</th>\n",
              "      <td>2</td>\n",
              "      <td>792.0</td>\n",
              "      <td>1.0</td>\n",
              "      <td>1.0</td>\n",
              "      <td>28.0</td>\n",
              "      <td>4.0</td>\n",
              "      <td>130142.79</td>\n",
              "      <td>1.0</td>\n",
              "      <td>1.0</td>\n",
              "      <td>0.0</td>\n",
              "      <td>38190.78</td>\n",
              "    </tr>\n",
              "  </tbody>\n",
              "</table>\n",
              "<p>10000 rows × 11 columns</p>\n",
              "</div>"
            ],
            "text/plain": [
              "      cluster  credit  Geography  ...  has_credit  is_active  estimated_salary\n",
              "0           6   619.0        1.0  ...         1.0        1.0         101348.88\n",
              "1           3   608.0        2.0  ...         0.0        1.0         112542.58\n",
              "2           1   502.0        1.0  ...         1.0        0.0         113931.57\n",
              "3           0   699.0        1.0  ...         0.0        0.0          93826.63\n",
              "4           2   850.0        2.0  ...         1.0        1.0          79084.10\n",
              "...       ...     ...        ...  ...         ...        ...               ...\n",
              "9995        0   771.0        1.0  ...         1.0        0.0          96270.64\n",
              "9996        3   516.0        1.0  ...         1.0        1.0         101699.77\n",
              "9997        6   709.0        1.0  ...         0.0        1.0          42085.58\n",
              "9998        5   772.0        3.0  ...         1.0        0.0          92888.52\n",
              "9999        2   792.0        1.0  ...         1.0        0.0          38190.78\n",
              "\n",
              "[10000 rows x 11 columns]"
            ]
          },
          "metadata": {},
          "execution_count": 12
        }
      ]
    },
    {
      "cell_type": "markdown",
      "metadata": {
        "id": "xzFB38GtFHag"
      },
      "source": [
        "### implementation of cluster analysis"
      ]
    },
    {
      "cell_type": "code",
      "metadata": {
        "id": "kEpN-MsO2FQK"
      },
      "source": [
        "#cluster analysis\n",
        "cluster1=dataset_classification[dataset_classification.cluster==0]\n",
        "cluster2=dataset_classification[dataset_classification.cluster==1]\n",
        "cluster3=dataset_classification[dataset_classification.cluster==2]\n",
        "cluster4=dataset_classification[dataset_classification.cluster==3]\n",
        "cluster5=dataset_classification[dataset_classification.cluster==4]\n",
        "cluster6=dataset_classification[dataset_classification.cluster==5]\n",
        "cluster7=dataset_classification[dataset_classification.cluster==6]"
      ],
      "execution_count": null,
      "outputs": []
    },
    {
      "cell_type": "code",
      "metadata": {
        "colab": {
          "base_uri": "https://localhost:8080/"
        },
        "id": "0LVWhHpv3uwn",
        "outputId": "49c0d357-b11e-4117-f1f3-e139b6b3470c"
      },
      "source": [
        "active_cluster1=np.mean(cluster1.is_active)\n",
        "active_cluster2=np.mean(cluster2.is_active)\n",
        "active_cluster3=np.mean(cluster3.is_active)\n",
        "active_cluster4=np.mean(cluster4.is_active)\n",
        "active_cluster5=np.mean(cluster5.is_active)\n",
        "active_cluster6=np.mean(cluster6.is_active)\n",
        "active_cluster7=np.mean(cluster7.is_active)\n",
        "print(active_cluster1)\n",
        "print(active_cluster6)\n",
        "print(active_cluster3)\n",
        "print(active_cluster5)\n",
        "print(active_cluster2)\n",
        "print(active_cluster4)\n",
        "print(active_cluster7)"
      ],
      "execution_count": null,
      "outputs": [
        {
          "output_type": "stream",
          "name": "stdout",
          "text": [
            "0.5460207612456748\n",
            "0.526615969581749\n",
            "0.5215962441314554\n",
            "0.515309932785661\n",
            "0.5133149678604224\n",
            "0.4954175152749491\n",
            "0.4841997961264016\n"
          ]
        }
      ]
    },
    {
      "cell_type": "code",
      "metadata": {
        "colab": {
          "base_uri": "https://localhost:8080/"
        },
        "id": "J-aSgbki4gMk",
        "outputId": "8bfb6b43-2bc4-4558-fd9d-36e1a7fd69ac"
      },
      "source": [
        "#salary comparison\n",
        "salary_cluster1=np.mean(cluster1.estimated_salary)\n",
        "salary_cluster2=np.mean(cluster2.estimated_salary)\n",
        "salary_cluster3=np.mean(cluster3.estimated_salary)\n",
        "salary_cluster4=np.mean(cluster4.estimated_salary)\n",
        "salary_cluster5=np.mean(cluster5.estimated_salary)\n",
        "salary_cluster6=np.mean(cluster6.estimated_salary)\n",
        "salary_cluster7=np.mean(cluster7.estimated_salary)\n",
        "print(salary_cluster2)\n",
        "print(salary_cluster6)\n",
        "print(salary_cluster1)\n",
        "print(salary_cluster3)\n",
        "print(salary_cluster7)\n",
        "print(salary_cluster4)\n",
        "print(salary_cluster5)"
      ],
      "execution_count": null,
      "outputs": [
        {
          "output_type": "stream",
          "name": "stdout",
          "text": [
            "102804.27645546361\n",
            "102789.20992395452\n",
            "99846.816235294\n",
            "99842.05963849768\n",
            "99258.40501529051\n",
            "99132.16035641568\n",
            "98434.65135175508\n"
          ]
        }
      ]
    },
    {
      "cell_type": "code",
      "metadata": {
        "colab": {
          "base_uri": "https://localhost:8080/"
        },
        "id": "ljDEu2Oh58Nq",
        "outputId": "dd603414-ac71-47a7-a403-60b8b089632c"
      },
      "source": [
        "age_cluster1=np.mean(cluster1.age)\n",
        "age_cluster2=np.mean(cluster2.age)\n",
        "age_cluster3=np.mean(cluster3.age)\n",
        "age_cluster4=np.mean(cluster4.age)\n",
        "age_cluster5=np.mean(cluster5.age)\n",
        "age_cluster6=np.mean(cluster6.age)\n",
        "age_cluster7=np.mean(cluster7.age)\n",
        "print(age_cluster7)\n",
        "print(age_cluster4)\n",
        "print(age_cluster3)\n",
        "print(age_cluster2)\n",
        "print(age_cluster6)\n",
        "print(age_cluster1)\n",
        "print(age_cluster5)\n"
      ],
      "execution_count": null,
      "outputs": [
        {
          "output_type": "stream",
          "name": "stdout",
          "text": [
            "40.60754332313965\n",
            "39.47606924643585\n",
            "39.4037558685446\n",
            "38.972451790633606\n",
            "38.48669201520912\n",
            "37.80968858131488\n",
            "37.607916355489174\n"
          ]
        }
      ]
    },
    {
      "cell_type": "code",
      "metadata": {
        "colab": {
          "base_uri": "https://localhost:8080/"
        },
        "id": "dNOS16ZO8GT9",
        "outputId": "13b2bee9-b870-4155-fbc8-b90b8b482196"
      },
      "source": [
        "credit_cluster1=np.mean(cluster1.credit)\n",
        "credit_cluster2=np.mean(cluster2.credit)\n",
        "credit_cluster3=np.mean(cluster3.credit)\n",
        "credit_cluster4=np.mean(cluster4.credit)\n",
        "credit_cluster5=np.mean(cluster5.credit)\n",
        "credit_cluster6=np.mean(cluster6.credit)\n",
        "credit_cluster7=np.mean(cluster7.credit)\n",
        "print(credit_cluster6)\n",
        "print(credit_cluster3)\n",
        "print(credit_cluster1)\n",
        "print(credit_cluster7)\n",
        "print(credit_cluster2)\n",
        "print(credit_cluster5)\n",
        "print(credit_cluster4)\n"
      ],
      "execution_count": null,
      "outputs": [
        {
          "output_type": "stream",
          "name": "stdout",
          "text": [
            "732.527566539924\n",
            "726.4906103286385\n",
            "725.9356401384083\n",
            "646.5504587155963\n",
            "575.8163452708907\n",
            "569.0530246452577\n",
            "567.7062118126273\n"
          ]
        }
      ]
    },
    {
      "cell_type": "code",
      "metadata": {
        "colab": {
          "base_uri": "https://localhost:8080/"
        },
        "id": "bdNBldOw89Bj",
        "outputId": "88f673ed-4ebb-4f06-fe7f-b8a37e720181"
      },
      "source": [
        "balance_cluster1=np.mean(cluster1.balance)\n",
        "balance_cluster2=np.mean(cluster2.balance)\n",
        "balance_cluster3=np.mean(cluster3.balance)\n",
        "balance_cluster4=np.mean(cluster4.balance)\n",
        "balance_cluster5=np.mean(cluster5.balance)\n",
        "balance_cluster6=np.mean(cluster6.balance)\n",
        "balance_cluster7=np.mean(cluster7.balance)\n",
        "print(balance_cluster2)\n",
        "print(balance_cluster6)\n",
        "print(balance_cluster3)\n",
        "print(balance_cluster4)\n",
        "print(balance_cluster7)\n",
        "print(balance_cluster1)\n",
        "print(balance_cluster5)\n"
      ],
      "execution_count": null,
      "outputs": [
        {
          "output_type": "stream",
          "name": "stdout",
          "text": [
            "121919.5765748392\n",
            "121593.38762357415\n",
            "121577.08905633794\n",
            "121190.81536659885\n",
            "4138.378318042813\n",
            "1156.1329480968855\n",
            "1093.2844660194173\n"
          ]
        }
      ]
    },
    {
      "cell_type": "code",
      "metadata": {
        "colab": {
          "base_uri": "https://localhost:8080/"
        },
        "id": "LW3YXLVH-Aw3",
        "outputId": "6a88fdee-f023-43e1-8a90-b71be1742788"
      },
      "source": [
        "gender_cluster1=np.mean(cluster1.gender)\n",
        "gender_cluster2=np.mean(cluster2.gender)\n",
        "gender_cluster3=np.mean(cluster3.gender)\n",
        "gender_cluster4=np.mean(cluster4.gender)\n",
        "gender_cluster5=np.mean(cluster5.gender)\n",
        "gender_cluster6=np.mean(cluster6.gender)\n",
        "gender_cluster7=np.mean(cluster7.gender)\n",
        "print(gender_cluster4)\n",
        "print(gender_cluster5)\n",
        "print(gender_cluster6)\n",
        "print(gender_cluster3)\n",
        "print(gender_cluster1)\n",
        "print(gender_cluster7)\n",
        "print(gender_cluster2)\n"
      ],
      "execution_count": null,
      "outputs": [
        {
          "output_type": "stream",
          "name": "stdout",
          "text": [
            "1.5641547861507128\n",
            "1.5586258401792383\n",
            "1.5503802281368821\n",
            "1.5469483568075117\n",
            "1.5411764705882354\n",
            "1.5198776758409787\n",
            "1.5188246097337006\n"
          ]
        }
      ]
    },
    {
      "cell_type": "code",
      "metadata": {
        "colab": {
          "base_uri": "https://localhost:8080/"
        },
        "id": "CsNnA0qZB1rO",
        "outputId": "9b5a6122-3a2b-4ac0-82ff-0a4a442f9145"
      },
      "source": [
        "product_cluster1=np.mean(cluster1.num_prod)\n",
        "product_cluster2=np.mean(cluster2.num_prod)\n",
        "product_cluster3=np.mean(cluster3.num_prod)\n",
        "product_cluster4=np.mean(cluster4.num_prod)\n",
        "product_cluster5=np.mean(cluster5.num_prod)\n",
        "product_cluster6=np.mean(cluster6.num_prod)\n",
        "product_cluster7=np.mean(cluster7.num_prod)\n",
        "print(product_cluster2)\n",
        "print(product_cluster6)\n",
        "print(product_cluster1)\n",
        "print(product_cluster5)\n",
        "print(product_cluster3)\n",
        "print(product_cluster4)\n",
        "print(product_cluster7)\n"
      ],
      "execution_count": null,
      "outputs": [
        {
          "output_type": "stream",
          "name": "stdout",
          "text": [
            "2.127640036730946\n",
            "2.1074144486692017\n",
            "2.0449826989619377\n",
            "2.0448095593726663\n",
            "1.0\n",
            "1.0\n",
            "1.0\n"
          ]
        }
      ]
    },
    {
      "cell_type": "code",
      "metadata": {
        "colab": {
          "base_uri": "https://localhost:8080/"
        },
        "id": "UocLJCO4NpMw",
        "outputId": "f0078472-2871-460d-e807-beaeb1a74a49"
      },
      "source": [
        "tenure_cluster1=np.mean(cluster1.tenure)\n",
        "tenure_cluster2=np.mean(cluster2.tenure)\n",
        "tenure_cluster3=np.mean(cluster3.tenure)\n",
        "tenure_cluster4=np.mean(cluster4.tenure)\n",
        "tenure_cluster5=np.mean(cluster5.tenure)\n",
        "tenure_cluster6=np.mean(cluster6.tenure)\n",
        "tenure_cluster7=np.mean(cluster7.tenure)\n",
        "print(tenure_cluster1)\n",
        "print(tenure_cluster2)\n",
        "print(tenure_cluster3)\n",
        "print(tenure_cluster4)\n",
        "print(tenure_cluster5)\n",
        "print(tenure_cluster6)\n",
        "print(tenure_cluster7)"
      ],
      "execution_count": null,
      "outputs": [
        {
          "output_type": "stream",
          "name": "stdout",
          "text": [
            "5.103806228373703\n",
            "5.10376492194674\n",
            "5.02112676056338\n",
            "4.936863543788188\n",
            "5.105302464525765\n",
            "4.870722433460076\n",
            "4.937818552497451\n"
          ]
        }
      ]
    },
    {
      "cell_type": "markdown",
      "metadata": {
        "id": "4PC3gplC2ImH"
      },
      "source": [
        "\n",
        "**result of clusters comparison**\n",
        "\n",
        "1. the more salary, the more credit\n",
        "2. the more salary, the more number of product\n",
        "3. the more men we have in clusters than women\n",
        "4. the more salary and number of product, the more active member we have in clusters\n",
        "5. the younger , the higher income and the more usage in number of product"
      ]
    },
    {
      "cell_type": "markdown",
      "metadata": {
        "id": "n3SqHslVzWeN"
      },
      "source": [
        "# **step 3: classification**"
      ]
    },
    {
      "cell_type": "markdown",
      "metadata": {
        "id": "r8HvjwJ15FAd"
      },
      "source": [
        "splitting data into test and train set"
      ]
    },
    {
      "cell_type": "code",
      "metadata": {
        "id": "hlWbzyWbuBSd"
      },
      "source": [
        "from sklearn.model_selection import train_test_split\n",
        "X_train, X_test, y_train, y_test = train_test_split(dataset_classification, y, test_size = 0.25, random_state = 0)"
      ],
      "execution_count": null,
      "outputs": []
    },
    {
      "cell_type": "code",
      "metadata": {
        "colab": {
          "base_uri": "https://localhost:8080/"
        },
        "id": "NBlaoWtNEMbO",
        "outputId": "cbc26074-60f5-4247-ebc8-71c7c3d252f4"
      },
      "source": [
        "print(\"the precentage of 1 in the training dataset = \",sum(y_train)/len(y_train))"
      ],
      "execution_count": null,
      "outputs": [
        {
          "output_type": "stream",
          "name": "stdout",
          "text": [
            "the precentage of 1 in the training dataset =  0.20373333333333332\n"
          ]
        }
      ]
    },
    {
      "cell_type": "markdown",
      "metadata": {
        "id": "ygYq6iZo5UY4"
      },
      "source": [
        "ballancing dataset (training set)"
      ]
    },
    {
      "cell_type": "code",
      "metadata": {
        "id": "qjw_n5YPtp4f"
      },
      "source": [
        "from imblearn.over_sampling import SMOTENC\n",
        "from imblearn.under_sampling import RandomUnderSampler\n",
        "over = SMOTENC(categorical_features=[0,1,2,3,4,5,7,8,9], random_state=0,sampling_strategy=0.65)\n",
        "X_train, y_train= over.fit_resample(X_train, y_train)"
      ],
      "execution_count": null,
      "outputs": []
    },
    {
      "cell_type": "code",
      "metadata": {
        "colab": {
          "base_uri": "https://localhost:8080/"
        },
        "id": "_IbB1iETEFGX",
        "outputId": "df39cb1e-9d9a-49ce-a82b-cfd9612e16ae"
      },
      "source": [
        "print(\"the precentage of 1 in the training dataset after oversampling technique= \",sum(y_train)/len(y_train))"
      ],
      "execution_count": null,
      "outputs": [
        {
          "output_type": "stream",
          "name": "stdout",
          "text": [
            "the precentage of 1 in the training dataset after oversampling technique=  0.39389018573023443\n"
          ]
        }
      ]
    },
    {
      "cell_type": "markdown",
      "metadata": {
        "id": "Y7JmjRlzzf08"
      },
      "source": [
        "## step 3-1: classification without clustering"
      ]
    },
    {
      "cell_type": "code",
      "metadata": {
        "id": "0vvUyw9V1gDj"
      },
      "source": [
        "X_WoC_train=X_train.drop(['cluster'], axis=1)\n",
        "X_WoC_test=X_test.drop(['cluster'], axis=1)\n",
        "y_WoC_train=y_train\n",
        "y_WoC_test=y_test\n"
      ],
      "execution_count": null,
      "outputs": []
    },
    {
      "cell_type": "code",
      "metadata": {
        "colab": {
          "base_uri": "https://localhost:8080/",
          "height": 443
        },
        "id": "692EKOa9Gg8t",
        "outputId": "e8e15976-d7c3-4975-c192-82130ab555da"
      },
      "source": [
        "X_WoC_train"
      ],
      "execution_count": null,
      "outputs": [
        {
          "output_type": "execute_result",
          "data": {
            "text/html": [
              "<div>\n",
              "<style scoped>\n",
              "    .dataframe tbody tr th:only-of-type {\n",
              "        vertical-align: middle;\n",
              "    }\n",
              "\n",
              "    .dataframe tbody tr th {\n",
              "        vertical-align: top;\n",
              "    }\n",
              "\n",
              "    .dataframe thead th {\n",
              "        text-align: right;\n",
              "    }\n",
              "</style>\n",
              "<table border=\"1\" class=\"dataframe\">\n",
              "  <thead>\n",
              "    <tr style=\"text-align: right;\">\n",
              "      <th></th>\n",
              "      <th>credit</th>\n",
              "      <th>Geography</th>\n",
              "      <th>gender</th>\n",
              "      <th>age</th>\n",
              "      <th>tenure</th>\n",
              "      <th>balance</th>\n",
              "      <th>num_prod</th>\n",
              "      <th>has_credit</th>\n",
              "      <th>is_active</th>\n",
              "      <th>estimated_salary</th>\n",
              "    </tr>\n",
              "  </thead>\n",
              "  <tbody>\n",
              "    <tr>\n",
              "      <th>0</th>\n",
              "      <td>579.0</td>\n",
              "      <td>3.0</td>\n",
              "      <td>1.0</td>\n",
              "      <td>39.0</td>\n",
              "      <td>5.0</td>\n",
              "      <td>117833.300000</td>\n",
              "      <td>3.0</td>\n",
              "      <td>0.0</td>\n",
              "      <td>0.0</td>\n",
              "      <td>5831.000000</td>\n",
              "    </tr>\n",
              "    <tr>\n",
              "      <th>1</th>\n",
              "      <td>750.0</td>\n",
              "      <td>1.0</td>\n",
              "      <td>1.0</td>\n",
              "      <td>32.0</td>\n",
              "      <td>5.0</td>\n",
              "      <td>0.000000</td>\n",
              "      <td>2.0</td>\n",
              "      <td>1.0</td>\n",
              "      <td>0.0</td>\n",
              "      <td>95611.470000</td>\n",
              "    </tr>\n",
              "    <tr>\n",
              "      <th>2</th>\n",
              "      <td>729.0</td>\n",
              "      <td>2.0</td>\n",
              "      <td>1.0</td>\n",
              "      <td>34.0</td>\n",
              "      <td>9.0</td>\n",
              "      <td>53299.960000</td>\n",
              "      <td>2.0</td>\n",
              "      <td>1.0</td>\n",
              "      <td>1.0</td>\n",
              "      <td>42855.970000</td>\n",
              "    </tr>\n",
              "    <tr>\n",
              "      <th>3</th>\n",
              "      <td>689.0</td>\n",
              "      <td>2.0</td>\n",
              "      <td>2.0</td>\n",
              "      <td>38.0</td>\n",
              "      <td>5.0</td>\n",
              "      <td>75075.140000</td>\n",
              "      <td>1.0</td>\n",
              "      <td>1.0</td>\n",
              "      <td>1.0</td>\n",
              "      <td>8651.920000</td>\n",
              "    </tr>\n",
              "    <tr>\n",
              "      <th>4</th>\n",
              "      <td>605.0</td>\n",
              "      <td>1.0</td>\n",
              "      <td>2.0</td>\n",
              "      <td>52.0</td>\n",
              "      <td>7.0</td>\n",
              "      <td>0.000000</td>\n",
              "      <td>2.0</td>\n",
              "      <td>1.0</td>\n",
              "      <td>1.0</td>\n",
              "      <td>173952.500000</td>\n",
              "    </tr>\n",
              "    <tr>\n",
              "      <th>...</th>\n",
              "      <td>...</td>\n",
              "      <td>...</td>\n",
              "      <td>...</td>\n",
              "      <td>...</td>\n",
              "      <td>...</td>\n",
              "      <td>...</td>\n",
              "      <td>...</td>\n",
              "      <td>...</td>\n",
              "      <td>...</td>\n",
              "      <td>...</td>\n",
              "    </tr>\n",
              "    <tr>\n",
              "      <th>9848</th>\n",
              "      <td>745.0</td>\n",
              "      <td>3.0</td>\n",
              "      <td>1.0</td>\n",
              "      <td>28.0</td>\n",
              "      <td>1.0</td>\n",
              "      <td>122267.588248</td>\n",
              "      <td>1.0</td>\n",
              "      <td>1.0</td>\n",
              "      <td>0.0</td>\n",
              "      <td>92748.669927</td>\n",
              "    </tr>\n",
              "    <tr>\n",
              "      <th>9849</th>\n",
              "      <td>643.0</td>\n",
              "      <td>1.0</td>\n",
              "      <td>2.0</td>\n",
              "      <td>40.0</td>\n",
              "      <td>5.0</td>\n",
              "      <td>0.000000</td>\n",
              "      <td>1.0</td>\n",
              "      <td>1.0</td>\n",
              "      <td>0.0</td>\n",
              "      <td>145287.369731</td>\n",
              "    </tr>\n",
              "    <tr>\n",
              "      <th>9850</th>\n",
              "      <td>745.0</td>\n",
              "      <td>3.0</td>\n",
              "      <td>1.0</td>\n",
              "      <td>37.0</td>\n",
              "      <td>2.0</td>\n",
              "      <td>111067.995853</td>\n",
              "      <td>1.0</td>\n",
              "      <td>1.0</td>\n",
              "      <td>1.0</td>\n",
              "      <td>38578.684381</td>\n",
              "    </tr>\n",
              "    <tr>\n",
              "      <th>9851</th>\n",
              "      <td>594.0</td>\n",
              "      <td>1.0</td>\n",
              "      <td>2.0</td>\n",
              "      <td>57.0</td>\n",
              "      <td>6.0</td>\n",
              "      <td>0.000000</td>\n",
              "      <td>1.0</td>\n",
              "      <td>1.0</td>\n",
              "      <td>0.0</td>\n",
              "      <td>18112.464025</td>\n",
              "    </tr>\n",
              "    <tr>\n",
              "      <th>9852</th>\n",
              "      <td>480.0</td>\n",
              "      <td>1.0</td>\n",
              "      <td>1.0</td>\n",
              "      <td>31.0</td>\n",
              "      <td>5.0</td>\n",
              "      <td>0.000000</td>\n",
              "      <td>1.0</td>\n",
              "      <td>1.0</td>\n",
              "      <td>0.0</td>\n",
              "      <td>162498.382350</td>\n",
              "    </tr>\n",
              "  </tbody>\n",
              "</table>\n",
              "<p>9853 rows × 10 columns</p>\n",
              "</div>"
            ],
            "text/plain": [
              "      credit  Geography  gender  ...  has_credit  is_active  estimated_salary\n",
              "0      579.0        3.0     1.0  ...         0.0        0.0       5831.000000\n",
              "1      750.0        1.0     1.0  ...         1.0        0.0      95611.470000\n",
              "2      729.0        2.0     1.0  ...         1.0        1.0      42855.970000\n",
              "3      689.0        2.0     2.0  ...         1.0        1.0       8651.920000\n",
              "4      605.0        1.0     2.0  ...         1.0        1.0     173952.500000\n",
              "...      ...        ...     ...  ...         ...        ...               ...\n",
              "9848   745.0        3.0     1.0  ...         1.0        0.0      92748.669927\n",
              "9849   643.0        1.0     2.0  ...         1.0        0.0     145287.369731\n",
              "9850   745.0        3.0     1.0  ...         1.0        1.0      38578.684381\n",
              "9851   594.0        1.0     2.0  ...         1.0        0.0      18112.464025\n",
              "9852   480.0        1.0     1.0  ...         1.0        0.0     162498.382350\n",
              "\n",
              "[9853 rows x 10 columns]"
            ]
          },
          "metadata": {},
          "execution_count": 33
        }
      ]
    },
    {
      "cell_type": "markdown",
      "metadata": {
        "id": "jUla27qOz0ad"
      },
      "source": [
        "### step 3-1-1: linear regression\n"
      ]
    },
    {
      "cell_type": "markdown",
      "metadata": {
        "id": "d7V4DgWO9TAz"
      },
      "source": [
        "step 3-1-1-1:fitting linear regression"
      ]
    },
    {
      "cell_type": "code",
      "metadata": {
        "colab": {
          "base_uri": "https://localhost:8080/"
        },
        "id": "UxX0QV_f3xjO",
        "outputId": "8e3106f4-887b-498e-814c-09ff87304fbd"
      },
      "source": [
        "from sklearn.linear_model import LogisticRegression\n",
        "classifier = LogisticRegression(random_state = 0)\n",
        "classifier.fit(X_WoC_train, y_WoC_train)"
      ],
      "execution_count": null,
      "outputs": [
        {
          "output_type": "execute_result",
          "data": {
            "text/plain": [
              "LogisticRegression(random_state=0)"
            ]
          },
          "metadata": {},
          "execution_count": 34
        }
      ]
    },
    {
      "cell_type": "markdown",
      "metadata": {
        "id": "xvCHUQ9z9cE5"
      },
      "source": [
        "step 3-1-1-2:make the prediction with linear regression"
      ]
    },
    {
      "cell_type": "code",
      "metadata": {
        "colab": {
          "base_uri": "https://localhost:8080/"
        },
        "id": "Gg2OqVfs4Ac_",
        "outputId": "84268a2e-2af1-475f-996c-c0cc60322ac9"
      },
      "source": [
        "y_WoC_pred = classifier.predict(X_WoC_test)\n",
        "print(np.concatenate((y_WoC_pred.reshape(len(y_WoC_pred),1), y_WoC_test.reshape(len(y_WoC_test),1)),1))"
      ],
      "execution_count": null,
      "outputs": [
        {
          "output_type": "stream",
          "name": "stdout",
          "text": [
            "[[0 0]\n",
            " [1 1]\n",
            " [0 0]\n",
            " ...\n",
            " [0 0]\n",
            " [0 0]\n",
            " [0 0]]\n"
          ]
        }
      ]
    },
    {
      "cell_type": "markdown",
      "metadata": {
        "id": "a_KJML1l9iyH"
      },
      "source": [
        "step 3-1-1-3:performance measure for linear regression"
      ]
    },
    {
      "cell_type": "code",
      "metadata": {
        "colab": {
          "base_uri": "https://localhost:8080/"
        },
        "id": "iZtBe29R4pOL",
        "outputId": "a8a8bb4f-b8bd-49a5-da60-86d67a47ba66"
      },
      "source": [
        "from sklearn.metrics import confusion_matrix, accuracy_score, precision_score, recall_score, f1_score\n",
        "cm = confusion_matrix(y_WoC_test, y_WoC_pred)\n",
        "print('confusion matrix : ')\n",
        "print(cm)\n",
        "print('accuracy score = %.4f' %accuracy_score(y_WoC_test, y_WoC_pred))\n",
        "print('precsion score = %.4f' %precision_score(y_WoC_test, y_WoC_pred, average='binary'))\n",
        "print('recall score = %.4f' %recall_score(y_WoC_test, y_WoC_pred))\n",
        "print('f1 score = %.4f' %f1_score(y_WoC_test, y_WoC_pred))"
      ],
      "execution_count": null,
      "outputs": [
        {
          "output_type": "stream",
          "name": "stdout",
          "text": [
            "confusion matrix : \n",
            "[[1641  350]\n",
            " [ 289  220]]\n",
            "accuracy score = 0.7444\n",
            "precsion score = 0.3860\n",
            "recall score = 0.4322\n",
            "f1 score = 0.4078\n"
          ]
        }
      ]
    },
    {
      "cell_type": "code",
      "metadata": {
        "colab": {
          "base_uri": "https://localhost:8080/",
          "height": 477
        },
        "id": "uQ_8ptrzum0H",
        "outputId": "6bbab709-6fd7-4da2-b150-343a89eb2fe4"
      },
      "source": [
        "from matplotlib import pyplot\n",
        "importance = classifier.coef_[0]\n",
        "for i,v in enumerate(importance):\n",
        "\tprint('Feature: %0d, Score: %.5f' % (i,v))\n",
        "pyplot.bar([x for x in range(len(importance))], importance)\n",
        "pyplot.title('weights of independent variables in LR(without clustering)')\n",
        "pyplot.xlabel('variable')\n",
        "pyplot.ylabel('weights')\n",
        "pyplot.show()\n"
      ],
      "execution_count": null,
      "outputs": [
        {
          "output_type": "stream",
          "name": "stdout",
          "text": [
            "Feature: 0, Score: -0.00362\n",
            "Feature: 1, Score: 0.03768\n",
            "Feature: 2, Score: -0.03938\n",
            "Feature: 3, Score: 0.05622\n",
            "Feature: 4, Score: -0.10393\n",
            "Feature: 5, Score: 0.00000\n",
            "Feature: 6, Score: -0.02844\n",
            "Feature: 7, Score: -0.00330\n",
            "Feature: 8, Score: -0.04036\n",
            "Feature: 9, Score: -0.00000\n"
          ]
        },
        {
          "output_type": "display_data",
          "data": {
            "image/png": "[encoded data removed]",
            "text/plain": [
              "<Figure size 432x288 with 1 Axes>"
            ]
          },
          "metadata": {
            "needs_background": "light"
          }
        }
      ]
    },
    {
      "cell_type": "code",
      "metadata": {
        "id": "r-oPuwfG8cV7"
      },
      "source": [
        "from sklearn.metrics import roc_curve, roc_auc_score\n",
        "from sklearn import metrics"
      ],
      "execution_count": null,
      "outputs": []
    },
    {
      "cell_type": "code",
      "metadata": {
        "id": "U8Re_1guiErn"
      },
      "source": [
        "y_WoC_pred = classifier.predict_proba(X_WoC_test)[::,1]\n",
        "fpr_LR, tpr_LR, _ = metrics.roc_curve(y_WoC_test,  y_WoC_pred)"
      ],
      "execution_count": null,
      "outputs": []
    },
    {
      "cell_type": "markdown",
      "metadata": {
        "id": "Kw0XX0m6-GJu"
      },
      "source": [
        "### step 3-1-2: Naive Bayes"
      ]
    },
    {
      "cell_type": "code",
      "metadata": {
        "colab": {
          "base_uri": "https://localhost:8080/"
        },
        "id": "FMEXDVoO-PRs",
        "outputId": "d0a342d9-b079-430a-f3b4-ef4fbd9529f3"
      },
      "source": [
        "from sklearn.naive_bayes import GaussianNB\n",
        "classifier = GaussianNB()\n",
        "classifier.fit(X_WoC_train, y_WoC_train)"
      ],
      "execution_count": null,
      "outputs": [
        {
          "output_type": "execute_result",
          "data": {
            "text/plain": [
              "GaussianNB()"
            ]
          },
          "metadata": {},
          "execution_count": 37
        }
      ]
    },
    {
      "cell_type": "code",
      "metadata": {
        "colab": {
          "base_uri": "https://localhost:8080/"
        },
        "id": "kz2sXY75-4bP",
        "outputId": "10927140-5376-4f39-e75c-8e6edb1ff197"
      },
      "source": [
        "y_WoC_pred_NB = classifier.predict(X_WoC_test)\n",
        "print(np.concatenate((y_WoC_pred_NB.reshape(len(y_WoC_pred_NB),1), y_WoC_test.reshape(len(y_WoC_test),1)),1))"
      ],
      "execution_count": null,
      "outputs": [
        {
          "output_type": "stream",
          "name": "stdout",
          "text": [
            "[[0 0]\n",
            " [0 1]\n",
            " [0 0]\n",
            " ...\n",
            " [0 0]\n",
            " [0 0]\n",
            " [0 0]]\n"
          ]
        }
      ]
    },
    {
      "cell_type": "code",
      "metadata": {
        "colab": {
          "base_uri": "https://localhost:8080/"
        },
        "id": "3uCzgGwc_dMB",
        "outputId": "985e89ed-8960-4219-b5ca-894bb053f2a7"
      },
      "source": [
        "cm = confusion_matrix(y_WoC_test, y_WoC_pred_NB)\n",
        "print('confusion matrix : ')\n",
        "print(cm)\n",
        "print('accuracy score = %.4f' %accuracy_score(y_WoC_test, y_WoC_pred_NB))\n",
        "print('precsion score = %.4f' %precision_score(y_WoC_test, y_WoC_pred_NB, average='binary'))\n",
        "print('recall score = %.4f' %recall_score(y_WoC_test, y_WoC_pred_NB))\n",
        "print('f1 score = %.4f' %f1_score(y_WoC_test, y_WoC_pred_NB))\n"
      ],
      "execution_count": null,
      "outputs": [
        {
          "output_type": "stream",
          "name": "stdout",
          "text": [
            "confusion matrix : \n",
            "[[1710  281]\n",
            " [ 264  245]]\n",
            "accuracy score = 0.7820\n",
            "precsion score = 0.4658\n",
            "recall score = 0.4813\n",
            "f1 score = 0.4734\n"
          ]
        }
      ]
    },
    {
      "cell_type": "code",
      "metadata": {
        "id": "Jg-tYDnNp6iz"
      },
      "source": [
        "y_WoC_pred_NB = classifier.predict_proba(X_WoC_test)[::,1]\n",
        "fpr_NB, tpr_NB, _ = metrics.roc_curve(y_WoC_test,  y_WoC_pred_NB)"
      ],
      "execution_count": null,
      "outputs": []
    },
    {
      "cell_type": "markdown",
      "metadata": {
        "id": "SqxL1Y_jAoEl"
      },
      "source": [
        "### step 3-1-3: Random Forest"
      ]
    },
    {
      "cell_type": "code",
      "metadata": {
        "colab": {
          "base_uri": "https://localhost:8080/",
          "height": 226
        },
        "id": "xv-YZZ8XmIUo",
        "outputId": "a24e6c78-be64-4f89-cce4-e8d707ee891b"
      },
      "source": [
        "from sklearn.ensemble import RandomForestClassifier\n",
        "param_grid={'n_estimators':[20,30,40,50,60,70,80,90,100], 'max_depth': [20,21,22]}\n",
        "classifier = GridSearchCV(estimator=RandomForestClassifier(),param_grid=param_grid)   \n",
        "classifier.fit(X_WoC_train, y_WoC_train)"
      ],
      "execution_count": null,
      "outputs": [
        {
          "output_type": "error",
          "ename": "NameError",
          "evalue": "ignored",
          "traceback": [
            "\u001b[0;31m---------------------------------------------------------------------------\u001b[0m",
            "\u001b[0;31mNameError\u001b[0m                                 Traceback (most recent call last)",
            "\u001b[0;32m<ipython-input-92-a2729c8ef1c7>\u001b[0m in \u001b[0;36m<module>\u001b[0;34m()\u001b[0m\n\u001b[1;32m      1\u001b[0m \u001b[0;32mfrom\u001b[0m \u001b[0msklearn\u001b[0m\u001b[0;34m.\u001b[0m\u001b[0mensemble\u001b[0m \u001b[0;32mimport\u001b[0m \u001b[0mRandomForestClassifier\u001b[0m\u001b[0;34m\u001b[0m\u001b[0;34m\u001b[0m\u001b[0m\n\u001b[1;32m      2\u001b[0m \u001b[0mparam_grid\u001b[0m\u001b[0;34m=\u001b[0m\u001b[0;34m{\u001b[0m\u001b[0;34m'n_estimators'\u001b[0m\u001b[0;34m:\u001b[0m\u001b[0;34m[\u001b[0m\u001b[0;36m20\u001b[0m\u001b[0;34m,\u001b[0m\u001b[0;36m30\u001b[0m\u001b[0;34m,\u001b[0m\u001b[0;36m40\u001b[0m\u001b[0;34m,\u001b[0m\u001b[0;36m50\u001b[0m\u001b[0;34m,\u001b[0m\u001b[0;36m60\u001b[0m\u001b[0;34m,\u001b[0m\u001b[0;36m70\u001b[0m\u001b[0;34m,\u001b[0m\u001b[0;36m80\u001b[0m\u001b[0;34m,\u001b[0m\u001b[0;36m90\u001b[0m\u001b[0;34m,\u001b[0m\u001b[0;36m100\u001b[0m\u001b[0;34m]\u001b[0m\u001b[0;34m,\u001b[0m \u001b[0;34m'max_depth'\u001b[0m\u001b[0;34m:\u001b[0m \u001b[0;34m[\u001b[0m\u001b[0;36m20\u001b[0m\u001b[0;34m,\u001b[0m\u001b[0;36m21\u001b[0m\u001b[0;34m,\u001b[0m\u001b[0;36m22\u001b[0m\u001b[0;34m]\u001b[0m\u001b[0;34m}\u001b[0m\u001b[0;34m\u001b[0m\u001b[0;34m\u001b[0m\u001b[0m\n\u001b[0;32m----> 3\u001b[0;31m \u001b[0mclassifier\u001b[0m \u001b[0;34m=\u001b[0m \u001b[0mGridSearchCV\u001b[0m\u001b[0;34m(\u001b[0m\u001b[0mestimator\u001b[0m\u001b[0;34m=\u001b[0m\u001b[0mRandomForestClassifier\u001b[0m\u001b[0;34m(\u001b[0m\u001b[0;34m)\u001b[0m\u001b[0;34m,\u001b[0m\u001b[0mparam_grid\u001b[0m\u001b[0;34m=\u001b[0m\u001b[0mparam_grid\u001b[0m\u001b[0;34m)\u001b[0m\u001b[0;34m\u001b[0m\u001b[0;34m\u001b[0m\u001b[0m\n\u001b[0m\u001b[1;32m      4\u001b[0m \u001b[0mclassifier\u001b[0m\u001b[0;34m.\u001b[0m\u001b[0mfit\u001b[0m\u001b[0;34m(\u001b[0m\u001b[0mX_WoC_train\u001b[0m\u001b[0;34m,\u001b[0m \u001b[0my_WoC_train\u001b[0m\u001b[0;34m)\u001b[0m\u001b[0;34m\u001b[0m\u001b[0;34m\u001b[0m\u001b[0m\n",
            "\u001b[0;31mNameError\u001b[0m: name 'GridSearchCV' is not defined"
          ]
        }
      ]
    },
    {
      "cell_type": "code",
      "metadata": {
        "id": "KmwEX1zamzji",
        "colab": {
          "base_uri": "https://localhost:8080/"
        },
        "outputId": "12d8dfb7-21cc-474a-9763-2b1bb73d7761"
      },
      "source": [
        "classifier.cv_results_\n",
        "df=pd.DataFrame(classifier.cv_results_)\n",
        "df[['params','mean_test_score']]\n",
        "classifier.best_params_"
      ],
      "execution_count": null,
      "outputs": [
        {
          "output_type": "execute_result",
          "data": {
            "text/plain": [
              "{'max_depth': 28}"
            ]
          },
          "metadata": {},
          "execution_count": 103
        }
      ]
    },
    {
      "cell_type": "code",
      "metadata": {
        "colab": {
          "base_uri": "https://localhost:8080/"
        },
        "id": "9DBT7wKRAxFg",
        "outputId": "f1446f31-eb73-4411-81ea-c3b62ddcbcd9"
      },
      "source": [
        "from sklearn.ensemble import RandomForestClassifier\n",
        "classifier = RandomForestClassifier(max_depth=21, n_estimators = 100, criterion = 'entropy', random_state = 0)\n",
        "classifier.fit(X_WoC_train, y_WoC_train)"
      ],
      "execution_count": null,
      "outputs": [
        {
          "output_type": "execute_result",
          "data": {
            "text/plain": [
              "RandomForestClassifier(criterion='entropy', max_depth=21, random_state=0)"
            ]
          },
          "metadata": {},
          "execution_count": 186
        }
      ]
    },
    {
      "cell_type": "code",
      "metadata": {
        "colab": {
          "base_uri": "https://localhost:8080/"
        },
        "id": "YOijpuroBCMk",
        "outputId": "109ef94d-6591-4724-be11-89b9be411df3"
      },
      "source": [
        "y_WoC_pred_RF = classifier.predict(X_WoC_test)\n",
        "print(np.concatenate((y_WoC_pred_RF.reshape(len(y_WoC_pred_RF),1), y_WoC_test.reshape(len(y_WoC_test),1)),1))"
      ],
      "execution_count": null,
      "outputs": [
        {
          "output_type": "stream",
          "name": "stdout",
          "text": [
            "[[1 0]\n",
            " [0 1]\n",
            " [0 0]\n",
            " ...\n",
            " [1 0]\n",
            " [0 0]\n",
            " [0 0]]\n"
          ]
        }
      ]
    },
    {
      "cell_type": "code",
      "metadata": {
        "colab": {
          "base_uri": "https://localhost:8080/"
        },
        "id": "-jdSlLsFBZAl",
        "outputId": "f27f4bef-202f-4506-922d-da058b95397c"
      },
      "source": [
        "cm = confusion_matrix(y_WoC_test, y_WoC_pred_RF)\n",
        "print('confusion matrix : ')\n",
        "print(cm)\n",
        "print('accuracy score = %.4f' %accuracy_score(y_WoC_test, y_WoC_pred_RF))\n",
        "print('precsion score = %.4f' %precision_score(y_WoC_test, y_WoC_pred_RF, average='binary'))\n",
        "print('recall score = %.4f' %recall_score(y_WoC_test, y_WoC_pred_RF))\n",
        "print('f1 score = %.4f' %f1_score(y_WoC_test, y_WoC_pred_RF))"
      ],
      "execution_count": null,
      "outputs": [
        {
          "output_type": "stream",
          "name": "stdout",
          "text": [
            "confusion matrix : \n",
            "[[1786  205]\n",
            " [ 181  328]]\n",
            "accuracy score = 0.8456\n",
            "precsion score = 0.6154\n",
            "recall score = 0.6444\n",
            "f1 score = 0.6296\n"
          ]
        }
      ]
    },
    {
      "cell_type": "code",
      "metadata": {
        "id": "8wRz7YDaqKLn"
      },
      "source": [
        "y_WoC_pred_RF = classifier.predict_proba(X_WoC_test)[::,1]\n",
        "fpr_RF, tpr_RF, _ = metrics.roc_curve(y_WoC_test,  y_WoC_pred_RF)"
      ],
      "execution_count": null,
      "outputs": []
    },
    {
      "cell_type": "code",
      "metadata": {
        "colab": {
          "base_uri": "https://localhost:8080/",
          "height": 477
        },
        "id": "zvPJGenZ1Xm-",
        "outputId": "e24d51e5-2ca8-442b-8fe7-5af40c21042f"
      },
      "source": [
        "importance = classifier.feature_importances_\n",
        "for i,v in enumerate(importance):\n",
        "\tprint('Feature: %0d, Score: %.5f' % (i,v))\n",
        "pyplot.bar([x for x in range(len(importance))], importance)\n",
        "pyplot.title('weights of independent variables in RF (without clustering)')\n",
        "pyplot.xlabel('variable')\n",
        "pyplot.ylabel('weights')\n",
        "pyplot.show()"
      ],
      "execution_count": null,
      "outputs": [
        {
          "output_type": "stream",
          "name": "stdout",
          "text": [
            "Feature: 0, Score: 0.13577\n",
            "Feature: 1, Score: 0.05177\n",
            "Feature: 2, Score: 0.02357\n",
            "Feature: 3, Score: 0.24000\n",
            "Feature: 4, Score: 0.08726\n",
            "Feature: 5, Score: 0.14681\n",
            "Feature: 6, Score: 0.11274\n",
            "Feature: 7, Score: 0.02030\n",
            "Feature: 8, Score: 0.03340\n",
            "Feature: 9, Score: 0.14837\n"
          ]
        },
        {
          "output_type": "display_data",
          "data": {
            "image/png": "[encoded data removed]",
            "text/plain": [
              "<Figure size 432x288 with 1 Axes>"
            ]
          },
          "metadata": {
            "needs_background": "light"
          }
        }
      ]
    },
    {
      "cell_type": "markdown",
      "metadata": {
        "id": "2gGQEdoOCJmG"
      },
      "source": [
        "### step 3-1-4: XGBoost"
      ]
    },
    {
      "cell_type": "code",
      "metadata": {
        "colab": {
          "base_uri": "https://localhost:8080/"
        },
        "id": "oAhIbVNfCWIv",
        "outputId": "c798b71b-0768-4bcb-8bd9-e1aa80d7f465"
      },
      "source": [
        "from sklearn.model_selection import GridSearchCV\n",
        "from xgboost import XGBClassifier\n",
        "param_grid={'max_depth':[27,28,29,30,31]}\n",
        "classifier = GridSearchCV(estimator=XGBClassifier(),param_grid=param_grid)   \n",
        "classifier.fit(X_WoC_train, y_WoC_train)"
      ],
      "execution_count": null,
      "outputs": [
        {
          "output_type": "execute_result",
          "data": {
            "text/plain": [
              "GridSearchCV(estimator=XGBClassifier(),\n",
              "             param_grid={'max_depth': [27, 28, 29, 30, 31]})"
            ]
          },
          "metadata": {},
          "execution_count": 93
        }
      ]
    },
    {
      "cell_type": "code",
      "metadata": {
        "colab": {
          "base_uri": "https://localhost:8080/"
        },
        "id": "f83Swn6GiK88",
        "outputId": "847cd3a8-9609-4616-b60f-ab694212af8f"
      },
      "source": [
        "classifier.cv_results_\n",
        "df=pd.DataFrame(classifier.cv_results_)\n",
        "df[['params','mean_test_score']]\n",
        "print(classifier.best_params_)"
      ],
      "execution_count": null,
      "outputs": [
        {
          "output_type": "stream",
          "name": "stdout",
          "text": [
            "{'max_depth': 28}\n"
          ]
        }
      ]
    },
    {
      "cell_type": "code",
      "metadata": {
        "id": "X1lcZbM_k3tq"
      },
      "source": [
        "from xgboost import XGBClassifier\n",
        "xgb=XGBClassifier(max_depth=28)\n",
        "y_WoC_pred_XG=xgb.fit(X_WoC_train, y_WoC_train).predict(X_WoC_test)"
      ],
      "execution_count": null,
      "outputs": []
    },
    {
      "cell_type": "code",
      "metadata": {
        "colab": {
          "base_uri": "https://localhost:8080/"
        },
        "id": "k3mhzMASP4jp",
        "outputId": "c1adef02-2c9e-47a3-c570-e04921c93472"
      },
      "source": [
        "y_WoC_pred_XG = xgb.predict(X_WoC_test)\n",
        "cm = confusion_matrix(y_WoC_test, y_WoC_pred_XG)\n",
        "print('confusion matrix : ')\n",
        "print(cm)\n",
        "print('accuracy score = %.4f' %accuracy_score(y_WoC_test, y_WoC_pred_XG))\n",
        "print('precsion score = %.4f' %precision_score(y_WoC_test, y_WoC_pred_XG, average='binary'))\n",
        "print('recall score = %.4f' %recall_score(y_WoC_test, y_WoC_pred_XG))\n",
        "print('f1 score = %.4f' %f1_score(y_WoC_test, y_WoC_pred_XG))"
      ],
      "execution_count": null,
      "outputs": [
        {
          "output_type": "stream",
          "name": "stdout",
          "text": [
            "confusion matrix : \n",
            "[[1776  215]\n",
            " [ 176  333]]\n",
            "accuracy score = 0.8436\n",
            "precsion score = 0.6077\n",
            "recall score = 0.6542\n",
            "f1 score = 0.6301\n"
          ]
        }
      ]
    },
    {
      "cell_type": "code",
      "metadata": {
        "colab": {
          "base_uri": "https://localhost:8080/",
          "height": 477
        },
        "id": "NVi_WLi8wfy0",
        "outputId": "deebcbc7-73d2-42a1-dea9-0400b9ce6131"
      },
      "source": [
        "importance = xgb.feature_importances_\n",
        "for i,v in enumerate(importance):\n",
        "\tprint('Feature: %0d, Score: %.5f' % (i,v))\n",
        "pyplot.bar([x for x in range(len(importance))], importance)\n",
        "pyplot.title('weights of independent variables in XGBOOST(without clustering)')\n",
        "pyplot.xlabel('variable')\n",
        "pyplot.ylabel('weights')\n",
        "pyplot.show()"
      ],
      "execution_count": null,
      "outputs": [
        {
          "output_type": "stream",
          "name": "stdout",
          "text": [
            "Feature: 0, Score: 0.02872\n",
            "Feature: 1, Score: 0.06223\n",
            "Feature: 2, Score: 0.04697\n",
            "Feature: 3, Score: 0.10083\n",
            "Feature: 4, Score: 0.03239\n",
            "Feature: 5, Score: 0.04539\n",
            "Feature: 6, Score: 0.50066\n",
            "Feature: 7, Score: 0.02960\n",
            "Feature: 8, Score: 0.12113\n",
            "Feature: 9, Score: 0.03208\n"
          ]
        },
        {
          "output_type": "display_data",
          "data": {
            "image/png": "[encoded data removed]",
            "text/plain": [
              "<Figure size 432x288 with 1 Axes>"
            ]
          },
          "metadata": {
            "needs_background": "light"
          }
        }
      ]
    },
    {
      "cell_type": "code",
      "metadata": {
        "id": "hgvlchOzqVIZ"
      },
      "source": [
        "y_WoC_pred_XG = xgb.predict_proba(X_WoC_test)[::,1]\n",
        "fpr_XG, tpr_XG, _ = metrics.roc_curve(y_WoC_test,  y_WoC_pred_XG)"
      ],
      "execution_count": null,
      "outputs": []
    },
    {
      "cell_type": "markdown",
      "metadata": {
        "id": "lU7XCmCkxQfC"
      },
      "source": [
        "### step 3-1-6: SVM"
      ]
    },
    {
      "cell_type": "code",
      "metadata": {
        "colab": {
          "base_uri": "https://localhost:8080/"
        },
        "id": "t6PE_bUt3m1c",
        "outputId": "8e52694d-4484-4843-8273-5b6c11f65c1b"
      },
      "source": [
        "from sklearn.model_selection import GridSearchCV\n",
        "from sklearn.svm import SVC\n",
        "param_grid={'kernel':['rbf', 'linear']}\n",
        "classifier = GridSearchCV(estimator=SVC(),param_grid=param_grid)   \n",
        "classifier.fit(X_WoC_train, y_WoC_train)"
      ],
      "execution_count": null,
      "outputs": [
        {
          "output_type": "execute_result",
          "data": {
            "text/plain": [
              "GridSearchCV(estimator=SVC(), param_grid={'kernel': ['rbf', 'linear']})"
            ]
          },
          "metadata": {},
          "execution_count": 39
        }
      ]
    },
    {
      "cell_type": "code",
      "metadata": {
        "colab": {
          "base_uri": "https://localhost:8080/"
        },
        "id": "eQlJa2144NdT",
        "outputId": "40deb4dd-52a2-41f9-9002-6343382fd0e9"
      },
      "source": [
        "classifier.cv_results_\n",
        "df=pd.DataFrame(classifier.cv_results_)\n",
        "df[['params','mean_test_score']]\n",
        "print(classifier.best_params_)"
      ],
      "execution_count": null,
      "outputs": [
        {
          "output_type": "stream",
          "name": "stdout",
          "text": [
            "{'kernel': 'rbf'}\n"
          ]
        }
      ]
    },
    {
      "cell_type": "code",
      "metadata": {
        "colab": {
          "base_uri": "https://localhost:8080/"
        },
        "id": "38XCfeW4xfrS",
        "outputId": "10342857-37d2-4a12-eb81-4f4385d2f9c2"
      },
      "source": [
        "from sklearn.svm import SVC\n",
        "classifier = SVC(kernel = 'rbf', random_state = 0)\n",
        "classifier.fit(X_WoC_train, y_WoC_train)"
      ],
      "execution_count": null,
      "outputs": [
        {
          "output_type": "execute_result",
          "data": {
            "text/plain": [
              "SVC(random_state=0)"
            ]
          },
          "metadata": {},
          "execution_count": 206
        }
      ]
    },
    {
      "cell_type": "code",
      "metadata": {
        "colab": {
          "base_uri": "https://localhost:8080/"
        },
        "id": "gZdYru-SyuKB",
        "outputId": "7ea7ce58-ea87-4025-82a7-53f72e32e13d"
      },
      "source": [
        "y_WoC_pred_svm = classifier.predict(X_WoC_test)\n",
        "print(np.concatenate((y_WoC_pred_svm.reshape(len(y_WoC_pred_svm),1), y_WoC_test.reshape(len(y_WoC_test),1)),1))"
      ],
      "execution_count": null,
      "outputs": [
        {
          "output_type": "stream",
          "name": "stdout",
          "text": [
            "[[1 0]\n",
            " [1 1]\n",
            " [0 0]\n",
            " ...\n",
            " [0 0]\n",
            " [0 0]\n",
            " [0 0]]\n"
          ]
        }
      ]
    },
    {
      "cell_type": "code",
      "metadata": {
        "colab": {
          "base_uri": "https://localhost:8080/"
        },
        "id": "rmEW3ryD1F3M",
        "outputId": "f14084fb-8591-4bab-ac96-83ecb68b8a72"
      },
      "source": [
        "from sklearn.metrics import confusion_matrix, accuracy_score\n",
        "\n",
        "cm = confusion_matrix(y_WoC_test, y_WoC_pred_svm)\n",
        "print('confusion matrix : ')\n",
        "print(cm)\n",
        "print('accuracy score = %.4f' %accuracy_score(y_WoC_test, y_WoC_pred_svm))\n",
        "print('precsion score = %.4f' %precision_score(y_WoC_test, y_WoC_pred_svm, average='binary'))\n",
        "print('recall score = %.4f' %recall_score(y_WoC_test, y_WoC_pred_svm))\n",
        "print('f1 score = %.4f' %f1_score(y_WoC_test, y_WoC_pred_svm))"
      ],
      "execution_count": null,
      "outputs": [
        {
          "output_type": "stream",
          "name": "stdout",
          "text": [
            "confusion matrix : \n",
            "[[1725  266]\n",
            " [ 168  341]]\n",
            "accuracy score = 0.8264\n",
            "precsion score = 0.5618\n",
            "recall score = 0.6699\n",
            "f1 score = 0.6111\n"
          ]
        }
      ]
    },
    {
      "cell_type": "markdown",
      "metadata": {
        "id": "NEKdrGtT7dkj"
      },
      "source": [
        "### step 3-1: ROC curve"
      ]
    },
    {
      "cell_type": "code",
      "metadata": {
        "colab": {
          "base_uri": "https://localhost:8080/",
          "height": 386
        },
        "id": "4IiSQpTT7npG",
        "outputId": "fa5e256f-1284-4802-836f-c69ac674f16d"
      },
      "source": [
        "plt.plot(fpr_LR,tpr_LR,label=\"LR\")\n",
        "plt.plot(fpr_NB,tpr_NB,label=\"NB\")\n",
        "plt.plot(fpr_RF,tpr_RF,label=\"RF\")\n",
        "plt.plot(fpr_XG, tpr_XG,label=\"XG\")\n",
        "#plt.plot(fpr_SVM, tpr_SVM) \n",
        "plt.legend()\n",
        "plt.title('ROC curve - without incorporation of clustering')\n",
        "plt.ylabel('True Positive Rate')\n",
        "plt.xlabel('False Positive Rate')\n",
        "plt.show()\n",
        "\n",
        "print('auc for LR without clustering = %.4f'%metrics.auc(fpr_LR,tpr_LR))\n",
        "print('auc for NB without clustering = %.4f'%metrics.auc(fpr_NB,tpr_NB))\n",
        "print('auc for RF without clustering = %.4f'%metrics.auc(fpr_RF,tpr_RF))\n",
        "print('auc for XG without clustering = %.4f'%metrics.auc(fpr_XG,tpr_XG))\n",
        "print('auc for KNN without clustering = %.4f'%metrics.auc(fpr_KNN,tpr_KNN))\n"
      ],
      "execution_count": null,
      "outputs": [
        {
          "output_type": "display_data",
          "data": {
            "image/png": "[encoded data removed]",
            "text/plain": [
              "<Figure size 432x288 with 1 Axes>"
            ]
          },
          "metadata": {
            "needs_background": "light"
          }
        },
        {
          "output_type": "stream",
          "name": "stdout",
          "text": [
            "auc for LR without clustering = 0.6859\n",
            "auc for NB without clustering = 0.7515\n",
            "auc for RF without clustering = 0.8629\n",
            "auc for XG without clustering = 0.8612\n",
            "auc for KNN without clustering = 0.8049\n"
          ]
        }
      ]
    },
    {
      "cell_type": "markdown",
      "metadata": {
        "id": "RwWWurd-xUl_"
      },
      "source": [
        "## step 3-2:classification with clustering "
      ]
    },
    {
      "cell_type": "code",
      "metadata": {
        "id": "_I-HjhB0yR2v"
      },
      "source": [
        "X_WC_train = X_train\n",
        "X_WC_test = X_test\n",
        "y_WC_train = y_WoC_train\n",
        "y_WC_test = y_WoC_test"
      ],
      "execution_count": null,
      "outputs": []
    },
    {
      "cell_type": "code",
      "metadata": {
        "colab": {
          "base_uri": "https://localhost:8080/",
          "height": 424
        },
        "id": "R_0yZYxjKj7s",
        "outputId": "7d6ffe1f-e1b4-4430-f4cd-c5f73a65f2e4"
      },
      "source": [
        "X_WC_train"
      ],
      "execution_count": null,
      "outputs": [
        {
          "output_type": "execute_result",
          "data": {
            "text/html": [
              "<div>\n",
              "<style scoped>\n",
              "    .dataframe tbody tr th:only-of-type {\n",
              "        vertical-align: middle;\n",
              "    }\n",
              "\n",
              "    .dataframe tbody tr th {\n",
              "        vertical-align: top;\n",
              "    }\n",
              "\n",
              "    .dataframe thead th {\n",
              "        text-align: right;\n",
              "    }\n",
              "</style>\n",
              "<table border=\"1\" class=\"dataframe\">\n",
              "  <thead>\n",
              "    <tr style=\"text-align: right;\">\n",
              "      <th></th>\n",
              "      <th>cluster</th>\n",
              "      <th>credit</th>\n",
              "      <th>Geography</th>\n",
              "      <th>gender</th>\n",
              "      <th>age</th>\n",
              "      <th>tenure</th>\n",
              "      <th>balance</th>\n",
              "      <th>num_prod</th>\n",
              "      <th>has_credit</th>\n",
              "      <th>is_active</th>\n",
              "      <th>estimated_salary</th>\n",
              "    </tr>\n",
              "  </thead>\n",
              "  <tbody>\n",
              "    <tr>\n",
              "      <th>0</th>\n",
              "      <td>1</td>\n",
              "      <td>579.0</td>\n",
              "      <td>3.0</td>\n",
              "      <td>1.0</td>\n",
              "      <td>39.0</td>\n",
              "      <td>5.0</td>\n",
              "      <td>117833.300000</td>\n",
              "      <td>3.0</td>\n",
              "      <td>0.0</td>\n",
              "      <td>0.0</td>\n",
              "      <td>5831.000000</td>\n",
              "    </tr>\n",
              "    <tr>\n",
              "      <th>1</th>\n",
              "      <td>0</td>\n",
              "      <td>750.0</td>\n",
              "      <td>1.0</td>\n",
              "      <td>1.0</td>\n",
              "      <td>32.0</td>\n",
              "      <td>5.0</td>\n",
              "      <td>0.000000</td>\n",
              "      <td>2.0</td>\n",
              "      <td>1.0</td>\n",
              "      <td>0.0</td>\n",
              "      <td>95611.470000</td>\n",
              "    </tr>\n",
              "    <tr>\n",
              "      <th>2</th>\n",
              "      <td>0</td>\n",
              "      <td>729.0</td>\n",
              "      <td>2.0</td>\n",
              "      <td>1.0</td>\n",
              "      <td>34.0</td>\n",
              "      <td>9.0</td>\n",
              "      <td>53299.960000</td>\n",
              "      <td>2.0</td>\n",
              "      <td>1.0</td>\n",
              "      <td>1.0</td>\n",
              "      <td>42855.970000</td>\n",
              "    </tr>\n",
              "    <tr>\n",
              "      <th>3</th>\n",
              "      <td>2</td>\n",
              "      <td>689.0</td>\n",
              "      <td>2.0</td>\n",
              "      <td>2.0</td>\n",
              "      <td>38.0</td>\n",
              "      <td>5.0</td>\n",
              "      <td>75075.140000</td>\n",
              "      <td>1.0</td>\n",
              "      <td>1.0</td>\n",
              "      <td>1.0</td>\n",
              "      <td>8651.920000</td>\n",
              "    </tr>\n",
              "    <tr>\n",
              "      <th>4</th>\n",
              "      <td>4</td>\n",
              "      <td>605.0</td>\n",
              "      <td>1.0</td>\n",
              "      <td>2.0</td>\n",
              "      <td>52.0</td>\n",
              "      <td>7.0</td>\n",
              "      <td>0.000000</td>\n",
              "      <td>2.0</td>\n",
              "      <td>1.0</td>\n",
              "      <td>1.0</td>\n",
              "      <td>173952.500000</td>\n",
              "    </tr>\n",
              "    <tr>\n",
              "      <th>...</th>\n",
              "      <td>...</td>\n",
              "      <td>...</td>\n",
              "      <td>...</td>\n",
              "      <td>...</td>\n",
              "      <td>...</td>\n",
              "      <td>...</td>\n",
              "      <td>...</td>\n",
              "      <td>...</td>\n",
              "      <td>...</td>\n",
              "      <td>...</td>\n",
              "      <td>...</td>\n",
              "    </tr>\n",
              "    <tr>\n",
              "      <th>9848</th>\n",
              "      <td>2</td>\n",
              "      <td>745.0</td>\n",
              "      <td>3.0</td>\n",
              "      <td>1.0</td>\n",
              "      <td>28.0</td>\n",
              "      <td>1.0</td>\n",
              "      <td>122267.588248</td>\n",
              "      <td>1.0</td>\n",
              "      <td>1.0</td>\n",
              "      <td>0.0</td>\n",
              "      <td>92748.669927</td>\n",
              "    </tr>\n",
              "    <tr>\n",
              "      <th>9849</th>\n",
              "      <td>6</td>\n",
              "      <td>643.0</td>\n",
              "      <td>1.0</td>\n",
              "      <td>2.0</td>\n",
              "      <td>40.0</td>\n",
              "      <td>5.0</td>\n",
              "      <td>0.000000</td>\n",
              "      <td>1.0</td>\n",
              "      <td>1.0</td>\n",
              "      <td>0.0</td>\n",
              "      <td>145287.369731</td>\n",
              "    </tr>\n",
              "    <tr>\n",
              "      <th>9850</th>\n",
              "      <td>2</td>\n",
              "      <td>745.0</td>\n",
              "      <td>3.0</td>\n",
              "      <td>1.0</td>\n",
              "      <td>37.0</td>\n",
              "      <td>2.0</td>\n",
              "      <td>111067.995853</td>\n",
              "      <td>1.0</td>\n",
              "      <td>1.0</td>\n",
              "      <td>1.0</td>\n",
              "      <td>38578.684381</td>\n",
              "    </tr>\n",
              "    <tr>\n",
              "      <th>9851</th>\n",
              "      <td>6</td>\n",
              "      <td>594.0</td>\n",
              "      <td>1.0</td>\n",
              "      <td>2.0</td>\n",
              "      <td>57.0</td>\n",
              "      <td>6.0</td>\n",
              "      <td>0.000000</td>\n",
              "      <td>1.0</td>\n",
              "      <td>1.0</td>\n",
              "      <td>0.0</td>\n",
              "      <td>18112.464025</td>\n",
              "    </tr>\n",
              "    <tr>\n",
              "      <th>9852</th>\n",
              "      <td>6</td>\n",
              "      <td>480.0</td>\n",
              "      <td>1.0</td>\n",
              "      <td>1.0</td>\n",
              "      <td>31.0</td>\n",
              "      <td>5.0</td>\n",
              "      <td>0.000000</td>\n",
              "      <td>1.0</td>\n",
              "      <td>1.0</td>\n",
              "      <td>0.0</td>\n",
              "      <td>162498.382350</td>\n",
              "    </tr>\n",
              "  </tbody>\n",
              "</table>\n",
              "<p>9853 rows × 11 columns</p>\n",
              "</div>"
            ],
            "text/plain": [
              "      cluster  credit  Geography  ...  has_credit  is_active  estimated_salary\n",
              "0           1   579.0        3.0  ...         0.0        0.0       5831.000000\n",
              "1           0   750.0        1.0  ...         1.0        0.0      95611.470000\n",
              "2           0   729.0        2.0  ...         1.0        1.0      42855.970000\n",
              "3           2   689.0        2.0  ...         1.0        1.0       8651.920000\n",
              "4           4   605.0        1.0  ...         1.0        1.0     173952.500000\n",
              "...       ...     ...        ...  ...         ...        ...               ...\n",
              "9848        2   745.0        3.0  ...         1.0        0.0      92748.669927\n",
              "9849        6   643.0        1.0  ...         1.0        0.0     145287.369731\n",
              "9850        2   745.0        3.0  ...         1.0        1.0      38578.684381\n",
              "9851        6   594.0        1.0  ...         1.0        0.0      18112.464025\n",
              "9852        6   480.0        1.0  ...         1.0        0.0     162498.382350\n",
              "\n",
              "[9853 rows x 11 columns]"
            ]
          },
          "metadata": {},
          "execution_count": 211
        }
      ]
    },
    {
      "cell_type": "markdown",
      "metadata": {
        "id": "X7CrrddpzK5o"
      },
      "source": [
        "### step 3-2-1: linear regression"
      ]
    },
    {
      "cell_type": "code",
      "metadata": {
        "colab": {
          "base_uri": "https://localhost:8080/"
        },
        "id": "WOa-vL6szQrW",
        "outputId": "88d77ede-aa9a-4434-f480-298833d94ba1"
      },
      "source": [
        "from sklearn.linear_model import LogisticRegression\n",
        "classifier = LogisticRegression(random_state = 0)\n",
        "classifier.fit(X_WC_train, y_WC_train)"
      ],
      "execution_count": null,
      "outputs": [
        {
          "output_type": "execute_result",
          "data": {
            "text/plain": [
              "LogisticRegression(random_state=0)"
            ]
          },
          "metadata": {},
          "execution_count": 212
        }
      ]
    },
    {
      "cell_type": "code",
      "metadata": {
        "colab": {
          "base_uri": "https://localhost:8080/"
        },
        "id": "_8Zi9awQzXth",
        "outputId": "d56aa282-6554-4ff4-be2a-8a2405af3a92"
      },
      "source": [
        "y_WC_pred = classifier.predict(X_WC_test)\n",
        "print(np.concatenate((y_WC_pred.reshape(len(y_WC_pred),1), y_WC_test.reshape(len(y_WC_test),1)),1))"
      ],
      "execution_count": null,
      "outputs": [
        {
          "output_type": "stream",
          "name": "stdout",
          "text": [
            "[[0 0]\n",
            " [1 1]\n",
            " [0 0]\n",
            " ...\n",
            " [0 0]\n",
            " [0 0]\n",
            " [0 0]]\n"
          ]
        }
      ]
    },
    {
      "cell_type": "code",
      "metadata": {
        "colab": {
          "base_uri": "https://localhost:8080/"
        },
        "id": "UnEniGcAzdSu",
        "outputId": "9e27dcd0-b8c4-4f5d-8817-e6a6c4ede953"
      },
      "source": [
        "from sklearn.metrics import confusion_matrix, accuracy_score, precision_score, recall_score, f1_score\n",
        "cm = confusion_matrix(y_WC_test, y_WC_pred)\n",
        "print('confusion matrix : ')\n",
        "print(cm)\n",
        "print('accuracy score = %.4f' %accuracy_score(y_WC_test, y_WC_pred))\n",
        "print('precsion score = %.4f' %precision_score(y_WC_test, y_WC_pred, average='binary'))\n",
        "print('recall score = %.4f' %recall_score(y_WC_test, y_WC_pred))\n",
        "print('f1 score = %.4f' %f1_score(y_WC_test, y_WC_pred))"
      ],
      "execution_count": null,
      "outputs": [
        {
          "output_type": "stream",
          "name": "stdout",
          "text": [
            "confusion matrix : \n",
            "[[1635  356]\n",
            " [ 281  228]]\n",
            "accuracy score = 0.7452\n",
            "precsion score = 0.3904\n",
            "recall score = 0.4479\n",
            "f1 score = 0.4172\n"
          ]
        }
      ]
    },
    {
      "cell_type": "code",
      "metadata": {
        "colab": {
          "base_uri": "https://localhost:8080/",
          "height": 496
        },
        "id": "mlCxM_DFvEff",
        "outputId": "70e9f5eb-7e29-4bbc-e04a-9785c715438d"
      },
      "source": [
        "from matplotlib import pyplot\n",
        "importance = classifier.coef_[0]\n",
        "importance\n",
        "for i,v in enumerate(importance):\n",
        "\tprint('Feature: %0d, Score: %.5f' % (i,v))\n",
        "pyplot.bar([x for x in range(len(importance))], importance)\n",
        "pyplot.title('weights of independent variables in LR(with clustering)')\n",
        "pyplot.xlabel('variable')\n",
        "pyplot.ylabel('weights')\n",
        "pyplot.show()"
      ],
      "execution_count": null,
      "outputs": [
        {
          "output_type": "stream",
          "name": "stdout",
          "text": [
            "Feature: 0, Score: 0.06990\n",
            "Feature: 1, Score: -0.00379\n",
            "Feature: 2, Score: 0.04183\n",
            "Feature: 3, Score: -0.04398\n",
            "Feature: 4, Score: 0.05477\n",
            "Feature: 5, Score: -0.11596\n",
            "Feature: 6, Score: 0.00000\n",
            "Feature: 7, Score: -0.03159\n",
            "Feature: 8, Score: -0.00374\n",
            "Feature: 9, Score: -0.04495\n",
            "Feature: 10, Score: -0.00000\n"
          ]
        },
        {
          "output_type": "display_data",
          "data": {
            "image/png": "[encoded data removed]",
            "text/plain": [
              "<Figure size 432x288 with 1 Axes>"
            ]
          },
          "metadata": {
            "needs_background": "light"
          }
        }
      ]
    },
    {
      "cell_type": "code",
      "metadata": {
        "id": "WX6SkFnEzgky"
      },
      "source": [
        "from sklearn.metrics import roc_curve, roc_auc_score\n",
        "from sklearn import metrics"
      ],
      "execution_count": null,
      "outputs": []
    },
    {
      "cell_type": "code",
      "metadata": {
        "id": "glWG4LKZznCz"
      },
      "source": [
        "y_WC_pred = classifier.predict_proba(X_WC_test)[::,1]\n",
        "fpr_LR_C, tpr_LR_C, _ = metrics.roc_curve(y_WC_test,  y_WC_pred)"
      ],
      "execution_count": null,
      "outputs": []
    },
    {
      "cell_type": "markdown",
      "metadata": {
        "id": "EPmo7ILp0mHr"
      },
      "source": [
        "### step 3-2-2: Naive Bayes"
      ]
    },
    {
      "cell_type": "code",
      "metadata": {
        "colab": {
          "base_uri": "https://localhost:8080/"
        },
        "id": "ZZWhkwvl0w7y",
        "outputId": "8fa1c7b1-307c-4919-9d16-05e69f0baf95"
      },
      "source": [
        "from sklearn.naive_bayes import GaussianNB\n",
        "classifier = GaussianNB()\n",
        "classifier.fit(X_WC_train, y_WC_train)"
      ],
      "execution_count": null,
      "outputs": [
        {
          "output_type": "execute_result",
          "data": {
            "text/plain": [
              "GaussianNB()"
            ]
          },
          "metadata": {},
          "execution_count": 217
        }
      ]
    },
    {
      "cell_type": "code",
      "metadata": {
        "colab": {
          "base_uri": "https://localhost:8080/"
        },
        "id": "C6e4m1t506Cy",
        "outputId": "650e74b4-1c83-4a88-e6dc-ee47d8a3568e"
      },
      "source": [
        "y_WC_pred_NB = classifier.predict(X_WC_test)\n",
        "print(np.concatenate((y_WC_pred_NB.reshape(len(y_WC_pred_NB),1), y_WC_test.reshape(len(y_WC_test),1)),1))"
      ],
      "execution_count": null,
      "outputs": [
        {
          "output_type": "stream",
          "name": "stdout",
          "text": [
            "[[0 0]\n",
            " [0 1]\n",
            " [0 0]\n",
            " ...\n",
            " [0 0]\n",
            " [0 0]\n",
            " [0 0]]\n"
          ]
        }
      ]
    },
    {
      "cell_type": "code",
      "metadata": {
        "colab": {
          "base_uri": "https://localhost:8080/"
        },
        "id": "IIirO8da06vh",
        "outputId": "17287612-0124-490d-8c0e-b8ee223983af"
      },
      "source": [
        "cm = confusion_matrix(y_WC_test, y_WC_pred_NB)\n",
        "print('confusion matrix : ')\n",
        "print(cm)\n",
        "print('accuracy score = %.4f' %accuracy_score(y_WC_test, y_WC_pred_NB))\n",
        "print('precsion score = %.4f' %precision_score(y_WC_test, y_WC_pred_NB, average='binary'))\n",
        "print('recall score = %.4f' %recall_score(y_WC_test, y_WC_pred_NB))\n",
        "print('f1 score = %.4f' %f1_score(y_WC_test, y_WC_pred_NB))"
      ],
      "execution_count": null,
      "outputs": [
        {
          "output_type": "stream",
          "name": "stdout",
          "text": [
            "confusion matrix : \n",
            "[[1721  270]\n",
            " [ 254  255]]\n",
            "accuracy score = 0.7904\n",
            "precsion score = 0.4857\n",
            "recall score = 0.5010\n",
            "f1 score = 0.4932\n"
          ]
        }
      ]
    },
    {
      "cell_type": "code",
      "metadata": {
        "id": "GxQjdZ4d0_ng"
      },
      "source": [
        "y_WC_pred_NB = classifier.predict_proba(X_WC_test)[::,1]\n",
        "fpr_NB_C, tpr_NB_C, _ = metrics.roc_curve(y_WC_test,  y_WC_pred_NB)"
      ],
      "execution_count": null,
      "outputs": []
    },
    {
      "cell_type": "markdown",
      "metadata": {
        "id": "6fgZ2vI6OaQS"
      },
      "source": [
        "### step 3-2-2: Random Forest"
      ]
    },
    {
      "cell_type": "code",
      "metadata": {
        "colab": {
          "base_uri": "https://localhost:8080/"
        },
        "id": "c31SowvKOgUL",
        "outputId": "3a89fae8-1594-4765-e095-d7aeb61487c1"
      },
      "source": [
        "from sklearn.ensemble import RandomForestClassifier\n",
        "param_grid={'n_estimators':[20,30,40,50,60,70,80,90,100], 'max_depth': [20,21,22,23,24]}\n",
        "classifier = GridSearchCV(estimator=RandomForestClassifier(),param_grid=param_grid)   \n",
        "classifier.fit(X_WC_train, y_WC_train)"
      ],
      "execution_count": null,
      "outputs": [
        {
          "output_type": "execute_result",
          "data": {
            "text/plain": [
              "GridSearchCV(estimator=RandomForestClassifier(),\n",
              "             param_grid={'max_depth': [20, 21, 22, 23, 24],\n",
              "                         'n_estimators': [20, 30, 40, 50, 60, 70, 80, 90, 100]})"
            ]
          },
          "metadata": {},
          "execution_count": 354
        }
      ]
    },
    {
      "cell_type": "code",
      "metadata": {
        "colab": {
          "base_uri": "https://localhost:8080/"
        },
        "id": "GrFIpzHgOkYA",
        "outputId": "82781846-54fd-439d-863f-0f9c5c0964d4"
      },
      "source": [
        "classifier.cv_results_\n",
        "df=pd.DataFrame(classifier.cv_results_)\n",
        "df[['params','mean_test_score']]\n",
        "classifier.best_params_\n",
        "#classifier.best_score_"
      ],
      "execution_count": null,
      "outputs": [
        {
          "output_type": "execute_result",
          "data": {
            "text/plain": [
              "{'max_depth': 21, 'n_estimators': 80}"
            ]
          },
          "metadata": {},
          "execution_count": 355
        }
      ]
    },
    {
      "cell_type": "code",
      "metadata": {
        "colab": {
          "base_uri": "https://localhost:8080/"
        },
        "id": "hMWVyWUROpHy",
        "outputId": "5105776c-a8f2-496b-c3c5-a55c64c796e5"
      },
      "source": [
        "from sklearn.ensemble import RandomForestClassifier\n",
        "classifier = RandomForestClassifier(max_depth=21, n_estimators = 80, criterion = 'entropy', random_state = 0)\n",
        "classifier.fit(X_WC_train, y_WC_train)"
      ],
      "execution_count": null,
      "outputs": [
        {
          "output_type": "execute_result",
          "data": {
            "text/plain": [
              "RandomForestClassifier(criterion='entropy', max_depth=21, n_estimators=80,\n",
              "                       random_state=0)"
            ]
          },
          "metadata": {},
          "execution_count": 220
        }
      ]
    },
    {
      "cell_type": "code",
      "metadata": {
        "colab": {
          "base_uri": "https://localhost:8080/"
        },
        "id": "ZUozDgvbOs7-",
        "outputId": "af63150e-d3a5-4f7b-a86d-afa1d1a49ed9"
      },
      "source": [
        "y_WC_pred_RF = classifier.predict(X_WC_test)\n",
        "print(np.concatenate((y_WC_pred_RF.reshape(len(y_WC_pred_RF),1), y_WC_test.reshape(len(y_WC_test),1)),1))"
      ],
      "execution_count": null,
      "outputs": [
        {
          "output_type": "stream",
          "name": "stdout",
          "text": [
            "[[1 0]\n",
            " [0 1]\n",
            " [0 0]\n",
            " ...\n",
            " [1 0]\n",
            " [0 0]\n",
            " [0 0]]\n"
          ]
        }
      ]
    },
    {
      "cell_type": "code",
      "metadata": {
        "colab": {
          "base_uri": "https://localhost:8080/"
        },
        "id": "X11OYZe9O0EA",
        "outputId": "5b03c9d9-0966-438b-b8fa-370877dea3d8"
      },
      "source": [
        "cm = confusion_matrix(y_WC_test, y_WC_pred_RF)\n",
        "print('confusion matrix : ')\n",
        "print(cm)\n",
        "print('accuracy score = %.4f' %accuracy_score(y_WC_test, y_WC_pred_RF))\n",
        "print('precsion score = %.4f' %precision_score(y_WC_test, y_WC_pred_RF, average='binary'))\n",
        "print('recall score = %.4f' %recall_score(y_WC_test, y_WC_pred_RF))\n",
        "print('f1 score = %.4f' %f1_score(y_WC_test, y_WC_pred_RF))"
      ],
      "execution_count": null,
      "outputs": [
        {
          "output_type": "stream",
          "name": "stdout",
          "text": [
            "confusion matrix : \n",
            "[[1775  216]\n",
            " [ 182  327]]\n",
            "accuracy score = 0.8408\n",
            "precsion score = 0.6022\n",
            "recall score = 0.6424\n",
            "f1 score = 0.6217\n"
          ]
        }
      ]
    },
    {
      "cell_type": "code",
      "metadata": {
        "id": "NR7kydkrO3ze"
      },
      "source": [
        "y_WC_pred_RF = classifier.predict_proba(X_WC_test)[::,1]\n",
        "fpr_RF_C, tpr_RF_C, _ = metrics.roc_curve(y_WC_test,  y_WC_pred_RF)\n"
      ],
      "execution_count": null,
      "outputs": []
    },
    {
      "cell_type": "code",
      "metadata": {
        "colab": {
          "base_uri": "https://localhost:8080/",
          "height": 496
        },
        "id": "cap9H6j-1yTc",
        "outputId": "d255100c-2a6d-49f0-e1f2-9c74abc562eb"
      },
      "source": [
        "importance = classifier.feature_importances_\n",
        "# summarize feature importance\n",
        "for i,v in enumerate(importance):\n",
        "\tprint('Feature: %0d, Score: %.5f' % (i,v))\n",
        "# plot feature importance\n",
        "pyplot.bar([x for x in range(len(importance))], importance)\n",
        "pyplot.title('weights of independent variables in RF (with clustering)')\n",
        "pyplot.xlabel('variable')\n",
        "pyplot.ylabel('weights')\n",
        "pyplot.show()"
      ],
      "execution_count": null,
      "outputs": [
        {
          "output_type": "stream",
          "name": "stdout",
          "text": [
            "Feature: 0, Score: 0.05980\n",
            "Feature: 1, Score: 0.12911\n",
            "Feature: 2, Score: 0.04993\n",
            "Feature: 3, Score: 0.02448\n",
            "Feature: 4, Score: 0.23623\n",
            "Feature: 5, Score: 0.08654\n",
            "Feature: 6, Score: 0.13004\n",
            "Feature: 7, Score: 0.08799\n",
            "Feature: 8, Score: 0.02065\n",
            "Feature: 9, Score: 0.03405\n",
            "Feature: 10, Score: 0.14121\n"
          ]
        },
        {
          "output_type": "display_data",
          "data": {
            "image/png": "[encoded data removed]",
            "text/plain": [
              "<Figure size 432x288 with 1 Axes>"
            ]
          },
          "metadata": {
            "needs_background": "light"
          }
        }
      ]
    },
    {
      "cell_type": "markdown",
      "metadata": {
        "id": "PjUo4V-AU321"
      },
      "source": [
        "### step 3-2-4: XGBoost"
      ]
    },
    {
      "cell_type": "code",
      "metadata": {
        "colab": {
          "base_uri": "https://localhost:8080/"
        },
        "id": "kCYQ2CklUFfs",
        "outputId": "c10ad48d-fd36-4b4b-9afa-7341952de888"
      },
      "source": [
        "from sklearn.model_selection import GridSearchCV\n",
        "from xgboost import XGBClassifier\n",
        "param_grid={'max_depth':[21,22,23,24,25,26,27,28]}\n",
        "classifier = GridSearchCV(estimator=XGBClassifier(),param_grid=param_grid)   \n",
        "classifier.fit(X_WC_train, y_WC_train)"
      ],
      "execution_count": null,
      "outputs": [
        {
          "output_type": "execute_result",
          "data": {
            "text/plain": [
              "GridSearchCV(estimator=XGBClassifier(),\n",
              "             param_grid={'max_depth': [21, 22, 23, 24, 25, 26, 27, 28]})"
            ]
          },
          "metadata": {},
          "execution_count": 359
        }
      ]
    },
    {
      "cell_type": "code",
      "metadata": {
        "colab": {
          "base_uri": "https://localhost:8080/"
        },
        "id": "8Qwk0I07UMjM",
        "outputId": "a06e4c01-27c7-42bb-d18d-035ce4436756"
      },
      "source": [
        "classifier.cv_results_\n",
        "df=pd.DataFrame(classifier.cv_results_)\n",
        "df[['params','mean_test_score']]\n",
        "print(classifier.best_params_)"
      ],
      "execution_count": null,
      "outputs": [
        {
          "output_type": "stream",
          "name": "stdout",
          "text": [
            "{'max_depth': 26}\n"
          ]
        }
      ]
    },
    {
      "cell_type": "code",
      "metadata": {
        "id": "AG2Goz10URfi"
      },
      "source": [
        "from xgboost import XGBClassifier\n",
        "xgb=XGBClassifier(max_depth=26)\n",
        "y_WC_pred_XG=xgb.fit(X_WC_train, y_WC_train).predict(X_WC_test)"
      ],
      "execution_count": null,
      "outputs": []
    },
    {
      "cell_type": "code",
      "metadata": {
        "colab": {
          "base_uri": "https://localhost:8080/"
        },
        "id": "qdmNER5NUX7i",
        "outputId": "8cdb1e86-c789-492b-ae94-e9f5ccb8b2e4"
      },
      "source": [
        "\n",
        "y_WC_pred_XG = xgb.predict(X_WC_test)\n",
        "cm = confusion_matrix(y_WC_test, y_WC_pred_XG)\n",
        "print('confusion matrix : ')\n",
        "print(cm)\n",
        "print('accuracy score = %.4f' %accuracy_score(y_WC_test, y_WC_pred_XG))\n",
        "print('precsion score = %.4f' %precision_score(y_WC_test, y_WC_pred_XG, average='binary'))\n",
        "print('recall score = %.4f' %recall_score(y_WC_test, y_WC_pred_XG))\n",
        "print('f1 score = %.4f' %f1_score(y_WC_test, y_WC_pred_XG))"
      ],
      "execution_count": null,
      "outputs": [
        {
          "output_type": "stream",
          "name": "stdout",
          "text": [
            "confusion matrix : \n",
            "[[1786  205]\n",
            " [ 180  329]]\n",
            "accuracy score = 0.8460\n",
            "precsion score = 0.6161\n",
            "recall score = 0.6464\n",
            "f1 score = 0.6309\n"
          ]
        }
      ]
    },
    {
      "cell_type": "code",
      "metadata": {
        "colab": {
          "base_uri": "https://localhost:8080/",
          "height": 496
        },
        "id": "33H0n_zTzL2o",
        "outputId": "a51389ac-240d-4385-ba2e-21b99120f200"
      },
      "source": [
        "importance = xgb.feature_importances_\n",
        "for i,v in enumerate(importance):\n",
        "\tprint('Feature: %0d, Score: %.5f' % (i,v))\n",
        "pyplot.bar([x for x in range(len(importance))], importance)\n",
        "pyplot.title('weights of independent variables in XGBOOST(with clustering)')\n",
        "pyplot.xlabel('variable')\n",
        "pyplot.ylabel('weights')\n",
        "pyplot.show()"
      ],
      "execution_count": null,
      "outputs": [
        {
          "output_type": "stream",
          "name": "stdout",
          "text": [
            "Feature: 0, Score: 0.02980\n",
            "Feature: 1, Score: 0.02570\n",
            "Feature: 2, Score: 0.05561\n",
            "Feature: 3, Score: 0.04134\n",
            "Feature: 4, Score: 0.09036\n",
            "Feature: 5, Score: 0.02872\n",
            "Feature: 6, Score: 0.04076\n",
            "Feature: 7, Score: 0.52557\n",
            "Feature: 8, Score: 0.02745\n",
            "Feature: 9, Score: 0.10572\n",
            "Feature: 10, Score: 0.02898\n"
          ]
        },
        {
          "output_type": "display_data",
          "data": {
            "image/png": "[encoded data removed]",
            "text/plain": [
              "<Figure size 432x288 with 1 Axes>"
            ]
          },
          "metadata": {
            "needs_background": "light"
          }
        }
      ]
    },
    {
      "cell_type": "code",
      "metadata": {
        "id": "AKpOByzpj2jK"
      },
      "source": [
        "y_WC_pred_XG = xgb.predict_proba(X_WC_test)[::,1]\n",
        "fpr_XG_C, tpr_XG_C, _ = metrics.roc_curve(y_WC_test,  y_WC_pred_XG)"
      ],
      "execution_count": null,
      "outputs": []
    },
    {
      "cell_type": "markdown",
      "metadata": {
        "id": "Oj97hCEQ1cgw"
      },
      "source": [
        "### step 3-2-6: SVM"
      ]
    },
    {
      "cell_type": "code",
      "metadata": {
        "colab": {
          "base_uri": "https://localhost:8080/"
        },
        "id": "E1N4j00z6qeY",
        "outputId": "e572c384-ad3b-456c-b0e5-b3c41ef3f498"
      },
      "source": [
        "from sklearn.model_selection import GridSearchCV\n",
        "from sklearn.svm import SVC\n",
        "param_grid={'kernel':['rbf', 'linear']}\n",
        "classifier = GridSearchCV(estimator=SVC(),param_grid=param_grid)   \n",
        "classifier.fit(X_WC_train, y_WC_train)"
      ],
      "execution_count": null,
      "outputs": [
        {
          "output_type": "execute_result",
          "data": {
            "text/plain": [
              "GridSearchCV(estimator=SVC(), param_grid={'kernel': ['rbf', 'linear']})"
            ]
          },
          "metadata": {},
          "execution_count": 50
        }
      ]
    },
    {
      "cell_type": "code",
      "metadata": {
        "colab": {
          "base_uri": "https://localhost:8080/"
        },
        "id": "rsjQoNPZ60id",
        "outputId": "63bcdde5-a834-4f3c-94d5-3fba27a6577d"
      },
      "source": [
        "classifier.cv_results_\n",
        "df=pd.DataFrame(classifier.cv_results_)\n",
        "df[['params','mean_test_score']]\n",
        "print(classifier.best_params_)"
      ],
      "execution_count": null,
      "outputs": [
        {
          "output_type": "stream",
          "name": "stdout",
          "text": [
            "{'kernel': 'rbf'}\n"
          ]
        }
      ]
    },
    {
      "cell_type": "code",
      "metadata": {
        "colab": {
          "base_uri": "https://localhost:8080/"
        },
        "id": "hmhYuLcg1eYR",
        "outputId": "3f213e50-4988-4902-9885-0e3eb79025a4"
      },
      "source": [
        "from sklearn.svm import SVC\n",
        "classifier = SVC(kernel = 'rbf', random_state = 0)\n",
        "classifier.fit(X_WC_train, y_WC_train)"
      ],
      "execution_count": null,
      "outputs": [
        {
          "output_type": "execute_result",
          "data": {
            "text/plain": [
              "SVC(random_state=0)"
            ]
          },
          "metadata": {},
          "execution_count": 232
        }
      ]
    },
    {
      "cell_type": "code",
      "metadata": {
        "colab": {
          "base_uri": "https://localhost:8080/"
        },
        "id": "kQhpf6OG1oLo",
        "outputId": "8655fb5c-b2df-40d8-9eb7-55f818812af0"
      },
      "source": [
        "y_WC_pred_svm = classifier.predict(X_WC_test)\n",
        "print(np.concatenate((y_WC_pred_svm.reshape(len(y_WC_pred_svm),1), y_WC_test.reshape(len(y_WC_test),1)),1))"
      ],
      "execution_count": null,
      "outputs": [
        {
          "output_type": "stream",
          "name": "stdout",
          "text": [
            "[[1 0]\n",
            " [0 1]\n",
            " [0 0]\n",
            " ...\n",
            " [0 0]\n",
            " [0 0]\n",
            " [0 0]]\n"
          ]
        }
      ]
    },
    {
      "cell_type": "code",
      "metadata": {
        "colab": {
          "base_uri": "https://localhost:8080/"
        },
        "id": "kM8HxUyv1tnI",
        "outputId": "4517cdc8-03b2-4601-a8ea-33eaedcd8ad6"
      },
      "source": [
        "from sklearn.metrics import confusion_matrix, accuracy_score\n",
        "\n",
        "cm = confusion_matrix(y_WC_test, y_WC_pred_svm)\n",
        "print('confusion matrix : ')\n",
        "print(cm)\n",
        "print('accuracy score = %.4f' %accuracy_score(y_WC_test, y_WC_pred_svm))\n",
        "print('precsion score = %.4f' %precision_score(y_WC_test, y_WC_pred_svm, average='binary'))\n",
        "print('recall score = %.4f' %recall_score(y_WC_test, y_WC_pred_svm))\n",
        "print('f1 score = %.4f' %f1_score(y_WC_test, y_WC_pred_svm))"
      ],
      "execution_count": null,
      "outputs": [
        {
          "output_type": "stream",
          "name": "stdout",
          "text": [
            "confusion matrix : \n",
            "[[1738  253]\n",
            " [ 170  339]]\n",
            "accuracy score = 0.8308\n",
            "precsion score = 0.5726\n",
            "recall score = 0.6660\n",
            "f1 score = 0.6158\n"
          ]
        }
      ]
    },
    {
      "cell_type": "markdown",
      "metadata": {
        "id": "vQh7cMgbjkd4"
      },
      "source": [
        "### step 3-2: ROC curve"
      ]
    },
    {
      "cell_type": "code",
      "metadata": {
        "colab": {
          "base_uri": "https://localhost:8080/",
          "height": 386
        },
        "id": "gaVCQp8ujftg",
        "outputId": "9cba8cdd-383d-4c75-8e0d-a74b7579c3f5"
      },
      "source": [
        "plt.plot(fpr_LR_C,tpr_LR_C,label=\"LR\")\n",
        "plt.plot(fpr_NB_C,tpr_NB_C,label=\"NB\")\n",
        "plt.plot(fpr_RF_C,tpr_RF_C,label=\"RF\")\n",
        "plt.plot(fpr_XG_C, tpr_XG_C,label=\"XG\")\n",
        "plt.legend()\n",
        "plt.title('ROC curve - With the incorporation of clustering')\n",
        "plt.ylabel('True Positive Rate')\n",
        "plt.xlabel('False Positive Rate')\n",
        "plt.show()\n",
        "\n",
        "print('auc for LR without clustering = %.4f'%metrics.auc(fpr_LR_C,tpr_LR_C))\n",
        "print('auc for NB without clustering = %.4f'%metrics.auc(fpr_NB_C,tpr_NB_C))\n",
        "print('auc for RF without clustering = %.4f'%metrics.auc(fpr_RF_C,tpr_RF_C))\n",
        "print('auc for XG without clustering = %.4f'%metrics.auc(fpr_XG_C,tpr_XG_C))\n",
        "print('auc for KNN without clustering = %.4f'%metrics.auc(fpr_KNN_C,tpr_KNN_C))"
      ],
      "execution_count": null,
      "outputs": [
        {
          "output_type": "display_data",
          "data": {
            "image/png": "[encoded data removed]",
            "text/plain": [
              "<Figure size 432x288 with 1 Axes>"
            ]
          },
          "metadata": {
            "needs_background": "light"
          }
        },
        {
          "output_type": "stream",
          "name": "stdout",
          "text": [
            "auc for LR without clustering = 0.6844\n",
            "auc for NB without clustering = 0.7611\n",
            "auc for RF without clustering = 0.8700\n",
            "auc for XG without clustering = 0.8621\n",
            "auc for KNN without clustering = 0.7936\n"
          ]
        }
      ]
    },
    {
      "cell_type": "markdown",
      "metadata": {
        "id": "Q9N4h5i4lHc4"
      },
      "source": [
        "# step 4: ROC curve comparison"
      ]
    },
    {
      "cell_type": "code",
      "metadata": {
        "colab": {
          "base_uri": "https://localhost:8080/",
          "height": 295
        },
        "id": "pM__ME7wlHlT",
        "outputId": "4f795db2-fa1d-4745-9541-8fae87e74b10"
      },
      "source": [
        "plt.plot(fpr_LR_C,tpr_LR_C,label=\"LR with k-means\")\n",
        "plt.plot(fpr_XG_C, tpr_XG_C,label=\"XG with k-means\")\n",
        "plt.plot(fpr_LR,tpr_LR,label=\"LR\")\n",
        "plt.plot(fpr_XG, tpr_XG,label=\"XG\")\n",
        "plt.legend()\n",
        "plt.title('ROC curve - With the incorporation of clustering')\n",
        "plt.ylabel('True Positive Rate')\n",
        "plt.xlabel('False Positive Rate')\n",
        "plt.show()"
      ],
      "execution_count": null,
      "outputs": [
        {
          "output_type": "display_data",
          "data": {
            "image/png": "[encoded data removed]",
            "text/plain": [
              "<Figure size 432x288 with 1 Axes>"
            ]
          },
          "metadata": {
            "needs_background": "light"
          }
        }
      ]
    },
    {
      "cell_type": "code",
      "metadata": {
        "colab": {
          "base_uri": "https://localhost:8080/",
          "height": 295
        },
        "id": "PSuEXWdR1OXj",
        "outputId": "ad923731-8453-4e8c-e508-c4c3c8d04d0e"
      },
      "source": [
        "plt.plot(fpr_RF_C,tpr_RF_C,label=\"RF with k-means\")\n",
        "plt.plot(fpr_NB_C,tpr_NB_C,label=\"NB with k-means\")\n",
        "plt.plot(fpr_RF,tpr_RF,label=\"RF\")\n",
        "plt.plot(fpr_NB,tpr_NB,label=\"NB\")\n",
        "plt.legend()\n",
        "plt.title('ROC curve - With the incorporation of clustering')\n",
        "plt.ylabel('True Positive Rate')\n",
        "plt.xlabel('False Positive Rate')\n",
        "plt.show()"
      ],
      "execution_count": null,
      "outputs": [
        {
          "output_type": "display_data",
          "data": {
            "image/png": "[encoded data removed]",
            "text/plain": [
              "<Figure size 432x288 with 1 Axes>"
            ]
          },
          "metadata": {
            "needs_background": "light"
          }
        }
      ]
    }
  ]
}